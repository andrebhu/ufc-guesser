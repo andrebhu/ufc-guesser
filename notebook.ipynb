{
 "cells": [
  {
   "cell_type": "code",
   "execution_count": null,
   "id": "c9dbeaf4",
   "metadata": {},
   "outputs": [],
   "source": []
  },
  {
   "cell_type": "markdown",
   "id": "23303208",
   "metadata": {
    "id": "aa46242f"
   },
   "source": [
    "# Introduction\n",
    "\n",
    "The Ultimate Fighting Championship (UFC) is an intense international competition where two fighters compete in mixed martial arts. Commonly before events, there is a lot of pre-fight talk where commentators compare fighters' personalities, fighting styles, and certain behaviors to hopefully place their accurate prediction. Countless people on Twitter, YouTube, and other social media also host their own livestreams and takes of their view.\n",
    "\n",
    "Inside the octagon, people commonly say \"anything can happen\", suggesting the outcome between two fighters despite predictions can be hardly known. In this project, we would like to find the truth to the statement and hopefully identify certain patterns or behaviors to aid in UFC predictions.\n",
    "\n",
    "We will hopefully train a model when provided the following features: `stance`, `height`, `reach`, `weight`, and `age` can accurately predict a favorite.\n",
    "\n"
   ]
  },
  {
   "cell_type": "code",
   "execution_count": 529,
   "id": "a7360927",
   "metadata": {
    "id": "22667df4"
   },
   "outputs": [],
   "source": [
    "# Import libraries\n",
    "\n",
    "import matplotlib.pyplot as plt\n",
    "import seaborn as sns\n",
    "import pandas as pd\n",
    "import numpy as np\n",
    "\n",
    "np.random.seed(0)\n",
    "sns.set_theme()\n",
    "\n",
    "import warnings\n",
    "warnings.filterwarnings('ignore')"
   ]
  },
  {
   "cell_type": "code",
   "execution_count": 530,
   "id": "a31a71cf",
   "metadata": {
    "colab": {
     "base_uri": "https://localhost:8080/",
     "height": 225
    },
    "id": "477ca332",
    "outputId": "e238f0b3-5785-4ba4-c75a-cf127dc8f179",
    "scrolled": true
   },
   "outputs": [
    {
     "data": {
      "text/html": [
       "<div>\n",
       "<style scoped>\n",
       "    .dataframe tbody tr th:only-of-type {\n",
       "        vertical-align: middle;\n",
       "    }\n",
       "\n",
       "    .dataframe tbody tr th {\n",
       "        vertical-align: top;\n",
       "    }\n",
       "\n",
       "    .dataframe thead th {\n",
       "        text-align: right;\n",
       "    }\n",
       "</style>\n",
       "<table border=\"1\" class=\"dataframe\">\n",
       "  <thead>\n",
       "    <tr style=\"text-align: right;\">\n",
       "      <th></th>\n",
       "      <th>R_fighter</th>\n",
       "      <th>B_fighter</th>\n",
       "      <th>Referee</th>\n",
       "      <th>date</th>\n",
       "      <th>location</th>\n",
       "      <th>Winner</th>\n",
       "      <th>title_bout</th>\n",
       "      <th>weight_class</th>\n",
       "      <th>B_avg_KD</th>\n",
       "      <th>B_avg_opp_KD</th>\n",
       "      <th>...</th>\n",
       "      <th>R_win_by_Decision_Unanimous</th>\n",
       "      <th>R_win_by_KO/TKO</th>\n",
       "      <th>R_win_by_Submission</th>\n",
       "      <th>R_win_by_TKO_Doctor_Stoppage</th>\n",
       "      <th>R_Stance</th>\n",
       "      <th>R_Height_cms</th>\n",
       "      <th>R_Reach_cms</th>\n",
       "      <th>R_Weight_lbs</th>\n",
       "      <th>B_age</th>\n",
       "      <th>R_age</th>\n",
       "    </tr>\n",
       "  </thead>\n",
       "  <tbody>\n",
       "    <tr>\n",
       "      <th>0</th>\n",
       "      <td>Adrian Yanez</td>\n",
       "      <td>Gustavo Lopez</td>\n",
       "      <td>Chris Tognoni</td>\n",
       "      <td>2021-03-20</td>\n",
       "      <td>Las Vegas, Nevada, USA</td>\n",
       "      <td>Red</td>\n",
       "      <td>False</td>\n",
       "      <td>Bantamweight</td>\n",
       "      <td>0.000</td>\n",
       "      <td>0.0</td>\n",
       "      <td>...</td>\n",
       "      <td>0</td>\n",
       "      <td>1</td>\n",
       "      <td>0</td>\n",
       "      <td>0</td>\n",
       "      <td>Orthodox</td>\n",
       "      <td>170.18</td>\n",
       "      <td>177.80</td>\n",
       "      <td>135.0</td>\n",
       "      <td>31.0</td>\n",
       "      <td>27.0</td>\n",
       "    </tr>\n",
       "    <tr>\n",
       "      <th>1</th>\n",
       "      <td>Trevin Giles</td>\n",
       "      <td>Roman Dolidze</td>\n",
       "      <td>Herb Dean</td>\n",
       "      <td>2021-03-20</td>\n",
       "      <td>Las Vegas, Nevada, USA</td>\n",
       "      <td>Red</td>\n",
       "      <td>False</td>\n",
       "      <td>Middleweight</td>\n",
       "      <td>0.500</td>\n",
       "      <td>0.0</td>\n",
       "      <td>...</td>\n",
       "      <td>0</td>\n",
       "      <td>3</td>\n",
       "      <td>0</td>\n",
       "      <td>0</td>\n",
       "      <td>Orthodox</td>\n",
       "      <td>182.88</td>\n",
       "      <td>187.96</td>\n",
       "      <td>185.0</td>\n",
       "      <td>32.0</td>\n",
       "      <td>28.0</td>\n",
       "    </tr>\n",
       "    <tr>\n",
       "      <th>2</th>\n",
       "      <td>Tai Tuivasa</td>\n",
       "      <td>Harry Hunsucker</td>\n",
       "      <td>Herb Dean</td>\n",
       "      <td>2021-03-20</td>\n",
       "      <td>Las Vegas, Nevada, USA</td>\n",
       "      <td>Red</td>\n",
       "      <td>False</td>\n",
       "      <td>Heavyweight</td>\n",
       "      <td>NaN</td>\n",
       "      <td>NaN</td>\n",
       "      <td>...</td>\n",
       "      <td>1</td>\n",
       "      <td>3</td>\n",
       "      <td>0</td>\n",
       "      <td>0</td>\n",
       "      <td>Southpaw</td>\n",
       "      <td>187.96</td>\n",
       "      <td>190.50</td>\n",
       "      <td>264.0</td>\n",
       "      <td>32.0</td>\n",
       "      <td>28.0</td>\n",
       "    </tr>\n",
       "    <tr>\n",
       "      <th>3</th>\n",
       "      <td>Cheyanne Buys</td>\n",
       "      <td>Montserrat Conejo</td>\n",
       "      <td>Mark Smith</td>\n",
       "      <td>2021-03-20</td>\n",
       "      <td>Las Vegas, Nevada, USA</td>\n",
       "      <td>Blue</td>\n",
       "      <td>False</td>\n",
       "      <td>WomenStrawweight</td>\n",
       "      <td>NaN</td>\n",
       "      <td>NaN</td>\n",
       "      <td>...</td>\n",
       "      <td>0</td>\n",
       "      <td>0</td>\n",
       "      <td>0</td>\n",
       "      <td>0</td>\n",
       "      <td>Switch</td>\n",
       "      <td>160.02</td>\n",
       "      <td>160.02</td>\n",
       "      <td>115.0</td>\n",
       "      <td>28.0</td>\n",
       "      <td>25.0</td>\n",
       "    </tr>\n",
       "    <tr>\n",
       "      <th>4</th>\n",
       "      <td>Marion Reneau</td>\n",
       "      <td>Macy Chiasson</td>\n",
       "      <td>Mark Smith</td>\n",
       "      <td>2021-03-20</td>\n",
       "      <td>Las Vegas, Nevada, USA</td>\n",
       "      <td>Blue</td>\n",
       "      <td>False</td>\n",
       "      <td>WomenBantamweight</td>\n",
       "      <td>0.125</td>\n",
       "      <td>0.0</td>\n",
       "      <td>...</td>\n",
       "      <td>1</td>\n",
       "      <td>2</td>\n",
       "      <td>2</td>\n",
       "      <td>0</td>\n",
       "      <td>Orthodox</td>\n",
       "      <td>167.64</td>\n",
       "      <td>172.72</td>\n",
       "      <td>135.0</td>\n",
       "      <td>29.0</td>\n",
       "      <td>43.0</td>\n",
       "    </tr>\n",
       "  </tbody>\n",
       "</table>\n",
       "<p>5 rows × 144 columns</p>\n",
       "</div>"
      ],
      "text/plain": [
       "       R_fighter          B_fighter        Referee        date  \\\n",
       "0   Adrian Yanez      Gustavo Lopez  Chris Tognoni  2021-03-20   \n",
       "1   Trevin Giles      Roman Dolidze      Herb Dean  2021-03-20   \n",
       "2    Tai Tuivasa    Harry Hunsucker      Herb Dean  2021-03-20   \n",
       "3  Cheyanne Buys  Montserrat Conejo     Mark Smith  2021-03-20   \n",
       "4  Marion Reneau      Macy Chiasson     Mark Smith  2021-03-20   \n",
       "\n",
       "                 location Winner  title_bout       weight_class  B_avg_KD  \\\n",
       "0  Las Vegas, Nevada, USA    Red       False       Bantamweight     0.000   \n",
       "1  Las Vegas, Nevada, USA    Red       False       Middleweight     0.500   \n",
       "2  Las Vegas, Nevada, USA    Red       False        Heavyweight       NaN   \n",
       "3  Las Vegas, Nevada, USA   Blue       False   WomenStrawweight       NaN   \n",
       "4  Las Vegas, Nevada, USA   Blue       False  WomenBantamweight     0.125   \n",
       "\n",
       "   B_avg_opp_KD  ...  R_win_by_Decision_Unanimous  R_win_by_KO/TKO  \\\n",
       "0           0.0  ...                            0                1   \n",
       "1           0.0  ...                            0                3   \n",
       "2           NaN  ...                            1                3   \n",
       "3           NaN  ...                            0                0   \n",
       "4           0.0  ...                            1                2   \n",
       "\n",
       "   R_win_by_Submission  R_win_by_TKO_Doctor_Stoppage  R_Stance  R_Height_cms  \\\n",
       "0                    0                             0  Orthodox        170.18   \n",
       "1                    0                             0  Orthodox        182.88   \n",
       "2                    0                             0  Southpaw        187.96   \n",
       "3                    0                             0    Switch        160.02   \n",
       "4                    2                             0  Orthodox        167.64   \n",
       "\n",
       "   R_Reach_cms  R_Weight_lbs  B_age  R_age  \n",
       "0       177.80         135.0   31.0   27.0  \n",
       "1       187.96         185.0   32.0   28.0  \n",
       "2       190.50         264.0   32.0   28.0  \n",
       "3       160.02         115.0   28.0   25.0  \n",
       "4       172.72         135.0   29.0   43.0  \n",
       "\n",
       "[5 rows x 144 columns]"
      ]
     },
     "execution_count": 530,
     "metadata": {},
     "output_type": "execute_result"
    }
   ],
   "source": [
    "# Import data\n",
    "file = open(\"dataset/data.csv\")\n",
    "df = pd.read_csv(file)\n",
    "df.head()"
   ]
  },
  {
   "cell_type": "markdown",
   "id": "d3fce9a0",
   "metadata": {
    "id": "a2a62fdb"
   },
   "source": [
    "# Unsupervised Analysis\n",
    "\n",
    "We will first take a look at the dataset to identify any missing values, as well as the features we are provided. Based on our desired goal of predicting who wins a fight, our target value is the \"Winner\"."
   ]
  },
  {
   "cell_type": "code",
   "execution_count": 531,
   "id": "a7523db4",
   "metadata": {
    "id": "8db6bb52",
    "scrolled": true
   },
   "outputs": [
    {
     "name": "stdout",
     "output_type": "stream",
     "text": [
      "<class 'pandas.core.frame.DataFrame'>\n",
      "RangeIndex: 6012 entries, 0 to 6011\n",
      "Columns: 144 entries, R_fighter to R_age\n",
      "dtypes: bool(1), float64(106), int64(28), object(9)\n",
      "memory usage: 6.6+ MB\n"
     ]
    }
   ],
   "source": [
    "df.info()"
   ]
  },
  {
   "cell_type": "code",
   "execution_count": 532,
   "id": "5a52418a",
   "metadata": {
    "id": "a9bfee49"
   },
   "outputs": [
    {
     "data": {
      "text/plain": [
       "(6012, 144)"
      ]
     },
     "execution_count": 532,
     "metadata": {},
     "output_type": "execute_result"
    }
   ],
   "source": [
    "df.shape"
   ]
  },
  {
   "cell_type": "markdown",
   "id": "20820495",
   "metadata": {
    "id": "d0f3510e"
   },
   "source": [
    "We have 6012 entries with 144 features."
   ]
  },
  {
   "cell_type": "code",
   "execution_count": 533,
   "id": "55f4e7ec",
   "metadata": {
    "id": "47cb91f5"
   },
   "outputs": [
    {
     "name": "stdout",
     "output_type": "stream",
     "text": [
      "R_fighter 0\n",
      "B_fighter 0\n",
      "Referee 32\n",
      "date 0\n",
      "location 0\n",
      "Winner 0\n",
      "title_bout 0\n",
      "weight_class 0\n",
      "B_avg_KD 1427\n",
      "B_avg_opp_KD 1427\n",
      "B_avg_SIG_STR_pct 1427\n",
      "B_avg_opp_SIG_STR_pct 1427\n",
      "B_avg_TD_pct 1427\n",
      "B_avg_opp_TD_pct 1427\n",
      "B_avg_SUB_ATT 1427\n",
      "B_avg_opp_SUB_ATT 1427\n",
      "B_avg_REV 1427\n",
      "B_avg_opp_REV 1427\n",
      "B_avg_SIG_STR_att 1427\n",
      "B_avg_SIG_STR_landed 1427\n",
      "B_avg_opp_SIG_STR_att 1427\n",
      "B_avg_opp_SIG_STR_landed 1427\n",
      "B_avg_TOTAL_STR_att 1427\n",
      "B_avg_TOTAL_STR_landed 1427\n",
      "B_avg_opp_TOTAL_STR_att 1427\n",
      "B_avg_opp_TOTAL_STR_landed 1427\n",
      "B_avg_TD_att 1427\n",
      "B_avg_TD_landed 1427\n",
      "B_avg_opp_TD_att 1427\n",
      "B_avg_opp_TD_landed 1427\n",
      "B_avg_HEAD_att 1427\n",
      "B_avg_HEAD_landed 1427\n",
      "B_avg_opp_HEAD_att 1427\n",
      "B_avg_opp_HEAD_landed 1427\n",
      "B_avg_BODY_att 1427\n",
      "B_avg_BODY_landed 1427\n",
      "B_avg_opp_BODY_att 1427\n",
      "B_avg_opp_BODY_landed 1427\n",
      "B_avg_LEG_att 1427\n",
      "B_avg_LEG_landed 1427\n",
      "B_avg_opp_LEG_att 1427\n",
      "B_avg_opp_LEG_landed 1427\n",
      "B_avg_DISTANCE_att 1427\n",
      "B_avg_DISTANCE_landed 1427\n",
      "B_avg_opp_DISTANCE_att 1427\n",
      "B_avg_opp_DISTANCE_landed 1427\n",
      "B_avg_CLINCH_att 1427\n",
      "B_avg_CLINCH_landed 1427\n",
      "B_avg_opp_CLINCH_att 1427\n",
      "B_avg_opp_CLINCH_landed 1427\n",
      "B_avg_GROUND_att 1427\n",
      "B_avg_GROUND_landed 1427\n",
      "B_avg_opp_GROUND_att 1427\n",
      "B_avg_opp_GROUND_landed 1427\n",
      "B_avg_CTRL_time(seconds) 1427\n",
      "B_avg_opp_CTRL_time(seconds) 1427\n",
      "B_total_time_fought(seconds) 1427\n",
      "B_total_rounds_fought 0\n",
      "B_total_title_bouts 0\n",
      "B_current_win_streak 0\n",
      "B_current_lose_streak 0\n",
      "B_longest_win_streak 0\n",
      "B_wins 0\n",
      "B_losses 0\n",
      "B_draw 0\n",
      "B_win_by_Decision_Majority 0\n",
      "B_win_by_Decision_Split 0\n",
      "B_win_by_Decision_Unanimous 0\n",
      "B_win_by_KO/TKO 0\n",
      "B_win_by_Submission 0\n",
      "B_win_by_TKO_Doctor_Stoppage 0\n",
      "B_Stance 66\n",
      "B_Height_cms 10\n",
      "B_Reach_cms 891\n",
      "B_Weight_lbs 8\n",
      "R_avg_KD 712\n",
      "R_avg_opp_KD 712\n",
      "R_avg_SIG_STR_pct 712\n",
      "R_avg_opp_SIG_STR_pct 712\n",
      "R_avg_TD_pct 712\n",
      "R_avg_opp_TD_pct 712\n",
      "R_avg_SUB_ATT 712\n",
      "R_avg_opp_SUB_ATT 712\n",
      "R_avg_REV 712\n",
      "R_avg_opp_REV 712\n",
      "R_avg_SIG_STR_att 712\n",
      "R_avg_SIG_STR_landed 712\n",
      "R_avg_opp_SIG_STR_att 712\n",
      "R_avg_opp_SIG_STR_landed 712\n",
      "R_avg_TOTAL_STR_att 712\n",
      "R_avg_TOTAL_STR_landed 712\n",
      "R_avg_opp_TOTAL_STR_att 712\n",
      "R_avg_opp_TOTAL_STR_landed 712\n",
      "R_avg_TD_att 712\n",
      "R_avg_TD_landed 712\n",
      "R_avg_opp_TD_att 712\n",
      "R_avg_opp_TD_landed 712\n",
      "R_avg_HEAD_att 712\n",
      "R_avg_HEAD_landed 712\n",
      "R_avg_opp_HEAD_att 712\n",
      "R_avg_opp_HEAD_landed 712\n",
      "R_avg_BODY_att 712\n",
      "R_avg_BODY_landed 712\n",
      "R_avg_opp_BODY_att 712\n",
      "R_avg_opp_BODY_landed 712\n",
      "R_avg_LEG_att 712\n",
      "R_avg_LEG_landed 712\n",
      "R_avg_opp_LEG_att 712\n",
      "R_avg_opp_LEG_landed 712\n",
      "R_avg_DISTANCE_att 712\n",
      "R_avg_DISTANCE_landed 712\n",
      "R_avg_opp_DISTANCE_att 712\n",
      "R_avg_opp_DISTANCE_landed 712\n",
      "R_avg_CLINCH_att 712\n",
      "R_avg_CLINCH_landed 712\n",
      "R_avg_opp_CLINCH_att 712\n",
      "R_avg_opp_CLINCH_landed 712\n",
      "R_avg_GROUND_att 712\n",
      "R_avg_GROUND_landed 712\n",
      "R_avg_opp_GROUND_att 712\n",
      "R_avg_opp_GROUND_landed 712\n",
      "R_avg_CTRL_time(seconds) 712\n",
      "R_avg_opp_CTRL_time(seconds) 712\n",
      "R_total_time_fought(seconds) 712\n",
      "R_total_rounds_fought 0\n",
      "R_total_title_bouts 0\n",
      "R_current_win_streak 0\n",
      "R_current_lose_streak 0\n",
      "R_longest_win_streak 0\n",
      "R_wins 0\n",
      "R_losses 0\n",
      "R_draw 0\n",
      "R_win_by_Decision_Majority 0\n",
      "R_win_by_Decision_Split 0\n",
      "R_win_by_Decision_Unanimous 0\n",
      "R_win_by_KO/TKO 0\n",
      "R_win_by_Submission 0\n",
      "R_win_by_TKO_Doctor_Stoppage 0\n",
      "R_Stance 29\n",
      "R_Height_cms 4\n",
      "R_Reach_cms 406\n",
      "R_Weight_lbs 2\n",
      "B_age 172\n",
      "R_age 63\n"
     ]
    }
   ],
   "source": [
    "for i, j in zip(df.columns, df.isnull().sum()):\n",
    "    print(i, j)"
   ]
  },
  {
   "cell_type": "markdown",
   "id": "3aa480e0",
   "metadata": {
    "id": "e5da51a9"
   },
   "source": [
    "We will take a look at the features and some of their characteristics. We will start with categorical features.\n",
    "\n",
    "## Categorical Features"
   ]
  },
  {
   "cell_type": "code",
   "execution_count": 534,
   "id": "fc3692e3",
   "metadata": {
    "id": "2563bd84"
   },
   "outputs": [
    {
     "name": "stdout",
     "output_type": "stream",
     "text": [
      "R_fighter\n",
      "B_fighter\n",
      "Referee\n",
      "date\n",
      "location\n",
      "Winner\n",
      "weight_class\n",
      "B_Stance\n",
      "R_Stance\n"
     ]
    }
   ],
   "source": [
    "categorical_features = df.select_dtypes(include=[np.object])\n",
    "for col in categorical_features.columns:\n",
    "    print(col)"
   ]
  },
  {
   "cell_type": "markdown",
   "id": "fd01e86e",
   "metadata": {
    "id": "TvTbWe2VeiV9"
   },
   "source": [
    "Let's take a look at the `weight_class` and `Stance` distributions for the dataset."
   ]
  },
  {
   "cell_type": "code",
   "execution_count": 535,
   "id": "562350db",
   "metadata": {
    "id": "869a61ae"
   },
   "outputs": [
    {
     "data": {
      "image/png": "[encoded data removed]",
      "text/plain": [
       "<Figure size 1296x648 with 2 Axes>"
      ]
     },
     "metadata": {},
     "output_type": "display_data"
    }
   ],
   "source": [
    "fig, a = plt.subplots(ncols=2, figsize=(18, 9))\n",
    "\n",
    "stances = pd.concat([df['R_Stance'], df['B_Stance']], axis=0) # combining all stances, double length of dataset\n",
    "weights = df['weight_class']\n",
    "\n",
    "stances.value_counts().plot(kind='pie', autopct='%1.2f%%', ax=a[0])\n",
    "a[0].set_ylabel('Stances')\n",
    "\n",
    "weights.value_counts().plot(kind='pie', autopct='%1.2f%%', ax=a[1])\n",
    "\n",
    "plt.show()"
   ]
  },
  {
   "cell_type": "markdown",
   "id": "bfdc84c3",
   "metadata": {
    "id": "MvA8voCRg98K"
   },
   "source": [
    "`weight_class` at a glance seems quite evenly distributed. Using the feature as is should produce equal results in regards to the dataset. However because `weight_class` is an overall feature that doesn't create a difference between two fights, we may remove it entirely to reduce dimensionality.\n",
    "\n",
    "`Stance` on the other hand seems to have a majority being `Orthodox`. Though in this case each fight has two stances, it may be worth creating a new feature to generate differences in stances.\n",
    "\n",
    "## Numerical Features"
   ]
  },
  {
   "cell_type": "code",
   "execution_count": 536,
   "id": "5d472bd6",
   "metadata": {
    "id": "b5a7f083"
   },
   "outputs": [
    {
     "name": "stdout",
     "output_type": "stream",
     "text": [
      "B_avg_KD\n",
      "B_avg_opp_KD\n",
      "B_avg_SIG_STR_pct\n",
      "B_avg_opp_SIG_STR_pct\n",
      "B_avg_TD_pct\n",
      "B_avg_opp_TD_pct\n",
      "B_avg_SUB_ATT\n",
      "B_avg_opp_SUB_ATT\n",
      "B_avg_REV\n",
      "B_avg_opp_REV\n",
      "B_avg_SIG_STR_att\n",
      "B_avg_SIG_STR_landed\n",
      "B_avg_opp_SIG_STR_att\n",
      "B_avg_opp_SIG_STR_landed\n",
      "B_avg_TOTAL_STR_att\n",
      "B_avg_TOTAL_STR_landed\n",
      "B_avg_opp_TOTAL_STR_att\n",
      "B_avg_opp_TOTAL_STR_landed\n",
      "B_avg_TD_att\n",
      "B_avg_TD_landed\n",
      "B_avg_opp_TD_att\n",
      "B_avg_opp_TD_landed\n",
      "B_avg_HEAD_att\n",
      "B_avg_HEAD_landed\n",
      "B_avg_opp_HEAD_att\n",
      "B_avg_opp_HEAD_landed\n",
      "B_avg_BODY_att\n",
      "B_avg_BODY_landed\n",
      "B_avg_opp_BODY_att\n",
      "B_avg_opp_BODY_landed\n",
      "B_avg_LEG_att\n",
      "B_avg_LEG_landed\n",
      "B_avg_opp_LEG_att\n",
      "B_avg_opp_LEG_landed\n",
      "B_avg_DISTANCE_att\n",
      "B_avg_DISTANCE_landed\n",
      "B_avg_opp_DISTANCE_att\n",
      "B_avg_opp_DISTANCE_landed\n",
      "B_avg_CLINCH_att\n",
      "B_avg_CLINCH_landed\n",
      "B_avg_opp_CLINCH_att\n",
      "B_avg_opp_CLINCH_landed\n",
      "B_avg_GROUND_att\n",
      "B_avg_GROUND_landed\n",
      "B_avg_opp_GROUND_att\n",
      "B_avg_opp_GROUND_landed\n",
      "B_avg_CTRL_time(seconds)\n",
      "B_avg_opp_CTRL_time(seconds)\n",
      "B_total_time_fought(seconds)\n",
      "B_total_rounds_fought\n",
      "B_total_title_bouts\n",
      "B_current_win_streak\n",
      "B_current_lose_streak\n",
      "B_longest_win_streak\n",
      "B_wins\n",
      "B_losses\n",
      "B_draw\n",
      "B_win_by_Decision_Majority\n",
      "B_win_by_Decision_Split\n",
      "B_win_by_Decision_Unanimous\n",
      "B_win_by_KO/TKO\n",
      "B_win_by_Submission\n",
      "B_win_by_TKO_Doctor_Stoppage\n",
      "B_Height_cms\n",
      "B_Reach_cms\n",
      "B_Weight_lbs\n",
      "R_avg_KD\n",
      "R_avg_opp_KD\n",
      "R_avg_SIG_STR_pct\n",
      "R_avg_opp_SIG_STR_pct\n",
      "R_avg_TD_pct\n",
      "R_avg_opp_TD_pct\n",
      "R_avg_SUB_ATT\n",
      "R_avg_opp_SUB_ATT\n",
      "R_avg_REV\n",
      "R_avg_opp_REV\n",
      "R_avg_SIG_STR_att\n",
      "R_avg_SIG_STR_landed\n",
      "R_avg_opp_SIG_STR_att\n",
      "R_avg_opp_SIG_STR_landed\n",
      "R_avg_TOTAL_STR_att\n",
      "R_avg_TOTAL_STR_landed\n",
      "R_avg_opp_TOTAL_STR_att\n",
      "R_avg_opp_TOTAL_STR_landed\n",
      "R_avg_TD_att\n",
      "R_avg_TD_landed\n",
      "R_avg_opp_TD_att\n",
      "R_avg_opp_TD_landed\n",
      "R_avg_HEAD_att\n",
      "R_avg_HEAD_landed\n",
      "R_avg_opp_HEAD_att\n",
      "R_avg_opp_HEAD_landed\n",
      "R_avg_BODY_att\n",
      "R_avg_BODY_landed\n",
      "R_avg_opp_BODY_att\n",
      "R_avg_opp_BODY_landed\n",
      "R_avg_LEG_att\n",
      "R_avg_LEG_landed\n",
      "R_avg_opp_LEG_att\n",
      "R_avg_opp_LEG_landed\n",
      "R_avg_DISTANCE_att\n",
      "R_avg_DISTANCE_landed\n",
      "R_avg_opp_DISTANCE_att\n",
      "R_avg_opp_DISTANCE_landed\n",
      "R_avg_CLINCH_att\n",
      "R_avg_CLINCH_landed\n",
      "R_avg_opp_CLINCH_att\n",
      "R_avg_opp_CLINCH_landed\n",
      "R_avg_GROUND_att\n",
      "R_avg_GROUND_landed\n",
      "R_avg_opp_GROUND_att\n",
      "R_avg_opp_GROUND_landed\n",
      "R_avg_CTRL_time(seconds)\n",
      "R_avg_opp_CTRL_time(seconds)\n",
      "R_total_time_fought(seconds)\n",
      "R_total_rounds_fought\n",
      "R_total_title_bouts\n",
      "R_current_win_streak\n",
      "R_current_lose_streak\n",
      "R_longest_win_streak\n",
      "R_wins\n",
      "R_losses\n",
      "R_draw\n",
      "R_win_by_Decision_Majority\n",
      "R_win_by_Decision_Split\n",
      "R_win_by_Decision_Unanimous\n",
      "R_win_by_KO/TKO\n",
      "R_win_by_Submission\n",
      "R_win_by_TKO_Doctor_Stoppage\n",
      "R_Height_cms\n",
      "R_Reach_cms\n",
      "R_Weight_lbs\n",
      "B_age\n",
      "R_age\n"
     ]
    }
   ],
   "source": [
    "numerical_features = df.select_dtypes(include=[np.number])\n",
    "for col in numerical_features.columns:\n",
    "    print(col)"
   ]
  },
  {
   "cell_type": "code",
   "execution_count": 537,
   "id": "313c35b1",
   "metadata": {},
   "outputs": [
    {
     "name": "stdout",
     "output_type": "stream",
     "text": [
      "          R_fighter           B_fighter        Referee        date  \\\n",
      "0      Adrian Yanez       Gustavo Lopez  Chris Tognoni  2021-03-20   \n",
      "1      Trevin Giles       Roman Dolidze      Herb Dean  2021-03-20   \n",
      "2       Tai Tuivasa     Harry Hunsucker      Herb Dean  2021-03-20   \n",
      "3     Cheyanne Buys   Montserrat Conejo     Mark Smith  2021-03-20   \n",
      "4     Marion Reneau       Macy Chiasson     Mark Smith  2021-03-20   \n",
      "...             ...                 ...            ...         ...   \n",
      "6007  Remco Pardoel  Alberta Cerra Leon  John McCarthy  1994-03-11   \n",
      "6008   Orlando Wiet    Robert Lucarelli  John McCarthy  1994-03-11   \n",
      "6009  Johnny Rhodes       David Levicki  John McCarthy  1994-03-11   \n",
      "6010  Patrick Smith          Ray Wizard  John McCarthy  1994-03-11   \n",
      "6011   Scott Morris      Sean Daugherty  John McCarthy  1994-03-11   \n",
      "\n",
      "                    location Winner  title_bout       weight_class  B_avg_KD  \\\n",
      "0     Las Vegas, Nevada, USA    Red       False       Bantamweight     0.000   \n",
      "1     Las Vegas, Nevada, USA    Red       False       Middleweight     0.500   \n",
      "2     Las Vegas, Nevada, USA    Red       False        Heavyweight       NaN   \n",
      "3     Las Vegas, Nevada, USA   Blue       False   WomenStrawweight       NaN   \n",
      "4     Las Vegas, Nevada, USA   Blue       False  WomenBantamweight     0.125   \n",
      "...                      ...    ...         ...                ...       ...   \n",
      "6007   Denver, Colorado, USA    Red       False         OpenWeight       NaN   \n",
      "6008   Denver, Colorado, USA    Red       False         OpenWeight       NaN   \n",
      "6009   Denver, Colorado, USA    Red       False         OpenWeight       NaN   \n",
      "6010   Denver, Colorado, USA    Red       False         OpenWeight       NaN   \n",
      "6011   Denver, Colorado, USA    Red       False         OpenWeight       NaN   \n",
      "\n",
      "      B_avg_opp_KD  ...  R_win_by_Decision_Unanimous  R_win_by_KO/TKO  \\\n",
      "0              0.0  ...                            0                1   \n",
      "1              0.0  ...                            0                3   \n",
      "2              NaN  ...                            1                3   \n",
      "3              NaN  ...                            0                0   \n",
      "4              0.0  ...                            1                2   \n",
      "...            ...  ...                          ...              ...   \n",
      "6007           NaN  ...                            0                0   \n",
      "6008           NaN  ...                            0                0   \n",
      "6009           NaN  ...                            0                0   \n",
      "6010           NaN  ...                            0                0   \n",
      "6011           NaN  ...                            0                0   \n",
      "\n",
      "      R_win_by_Submission  R_win_by_TKO_Doctor_Stoppage  R_Stance  \\\n",
      "0                       0                             0  Orthodox   \n",
      "1                       0                             0  Orthodox   \n",
      "2                       0                             0  Southpaw   \n",
      "3                       0                             0    Switch   \n",
      "4                       2                             0  Orthodox   \n",
      "...                   ...                           ...       ...   \n",
      "6007                    0                             0  Southpaw   \n",
      "6008                    0                             0  Southpaw   \n",
      "6009                    0                             0  Orthodox   \n",
      "6010                    0                             0  Orthodox   \n",
      "6011                    0                             0  Orthodox   \n",
      "\n",
      "      R_Height_cms  R_Reach_cms  R_Weight_lbs  B_age  R_age  \n",
      "0           170.18       177.80         135.0   31.0   27.0  \n",
      "1           182.88       187.96         185.0   32.0   28.0  \n",
      "2           187.96       190.50         264.0   32.0   28.0  \n",
      "3           160.02       160.02         115.0   28.0   25.0  \n",
      "4           167.64       172.72         135.0   29.0   43.0  \n",
      "...            ...          ...           ...    ...    ...  \n",
      "6007        190.50          NaN         260.0    NaN    NaN  \n",
      "6008        177.80          NaN         170.0    NaN    NaN  \n",
      "6009        182.88          NaN         210.0    NaN    NaN  \n",
      "6010        187.96          NaN         225.0    NaN   30.0  \n",
      "6011        177.80          NaN         210.0   18.0    NaN  \n",
      "\n",
      "[6012 rows x 144 columns]\n"
     ]
    }
   ],
   "source": [
    "print(df)"
   ]
  },
  {
   "cell_type": "code",
   "execution_count": 538,
   "id": "1ac8dd3b",
   "metadata": {},
   "outputs": [
    {
     "name": "stdout",
     "output_type": "stream",
     "text": [
      "      R_wins  R_losses  B_wins  B_losses\n",
      "0          1         1       1         1\n",
      "1          4         2       2         1\n",
      "2          4         3       0         1\n",
      "3          0         1       0         1\n",
      "4          5         6       4         1\n",
      "...      ...       ...     ...       ...\n",
      "6007       0         1       0         1\n",
      "6008       0         1       0         1\n",
      "6009       0         1       0         1\n",
      "6010       0         1       0         1\n",
      "6011       0         1       0         1\n",
      "\n",
      "[6012 rows x 4 columns]\n",
      "0       1.000000\n",
      "1       2.000000\n",
      "2       1.333333\n",
      "3       0.000000\n",
      "4       0.833333\n",
      "          ...   \n",
      "6007    0.000000\n",
      "6008    0.000000\n",
      "6009    0.000000\n",
      "6010    0.000000\n",
      "6011    0.000000\n",
      "Name: R_wlr, Length: 6012, dtype: float64\n",
      "0       1.0\n",
      "1       2.0\n",
      "2       0.0\n",
      "3       0.0\n",
      "4       4.0\n",
      "       ... \n",
      "6007    0.0\n",
      "6008    0.0\n",
      "6009    0.0\n",
      "6010    0.0\n",
      "6011    0.0\n",
      "Name: B_wlr, Length: 6012, dtype: float64\n"
     ]
    }
   ],
   "source": [
    "wlArray = df.filter(['R_wins', 'R_losses', 'B_wins', 'B_losses'])\n",
    "\n",
    "wlArray['R_losses'] = wlArray['R_losses'].replace(0,1)\n",
    "wlArray['B_losses'] = wlArray['B_losses'].replace(0,1)\n",
    "\n",
    "df['R_wlr'] = wlArray['R_wins']/wlArray['R_losses']\n",
    "df['B_wlr'] = wlArray['B_wins']/wlArray['B_losses']\n",
    "df['R_winDiff'] = df['R_wins'] - df['R_losses']\n",
    "df['B_winDiff'] = df['B_wins'] - df['B_losses']\n",
    "\n",
    "print(wlArray)\n",
    "\n",
    "print(df['R_wlr'])\n",
    "print(df['B_wlr'])\n"
   ]
  },
  {
   "cell_type": "markdown",
   "id": "96849597",
   "metadata": {
    "id": "Xi4RiuDPkHD9"
   },
   "source": [
    "We will again combine the red and blue columns to get a general view of all the data."
   ]
  },
  {
   "cell_type": "code",
   "execution_count": 539,
   "id": "51f822e2",
   "metadata": {
    "id": "253dd792"
   },
   "outputs": [
    {
     "data": {
      "text/html": [
       "<div>\n",
       "<style scoped>\n",
       "    .dataframe tbody tr th:only-of-type {\n",
       "        vertical-align: middle;\n",
       "    }\n",
       "\n",
       "    .dataframe tbody tr th {\n",
       "        vertical-align: top;\n",
       "    }\n",
       "\n",
       "    .dataframe thead th {\n",
       "        text-align: right;\n",
       "    }\n",
       "</style>\n",
       "<table border=\"1\" class=\"dataframe\">\n",
       "  <thead>\n",
       "    <tr style=\"text-align: right;\">\n",
       "      <th></th>\n",
       "      <th>Heights</th>\n",
       "      <th>Weights</th>\n",
       "      <th>Reaches</th>\n",
       "      <th>Ages</th>\n",
       "      <th>Win Streaks</th>\n",
       "      <th>Win Loss Ratio</th>\n",
       "    </tr>\n",
       "  </thead>\n",
       "  <tbody>\n",
       "    <tr>\n",
       "      <th>count</th>\n",
       "      <td>12010.000000</td>\n",
       "      <td>12014.000000</td>\n",
       "      <td>10727.000000</td>\n",
       "      <td>11789.000000</td>\n",
       "      <td>12024.000000</td>\n",
       "      <td>12024.000000</td>\n",
       "    </tr>\n",
       "    <tr>\n",
       "      <th>mean</th>\n",
       "      <td>178.971445</td>\n",
       "      <td>170.638588</td>\n",
       "      <td>183.403060</td>\n",
       "      <td>29.447112</td>\n",
       "      <td>1.130988</td>\n",
       "      <td>1.477975</td>\n",
       "    </tr>\n",
       "    <tr>\n",
       "      <th>std</th>\n",
       "      <td>8.761262</td>\n",
       "      <td>36.304720</td>\n",
       "      <td>10.472002</td>\n",
       "      <td>4.118991</td>\n",
       "      <td>1.624756</td>\n",
       "      <td>1.614409</td>\n",
       "    </tr>\n",
       "    <tr>\n",
       "      <th>min</th>\n",
       "      <td>152.400000</td>\n",
       "      <td>115.000000</td>\n",
       "      <td>147.320000</td>\n",
       "      <td>18.000000</td>\n",
       "      <td>0.000000</td>\n",
       "      <td>0.000000</td>\n",
       "    </tr>\n",
       "    <tr>\n",
       "      <th>25%</th>\n",
       "      <td>172.720000</td>\n",
       "      <td>145.000000</td>\n",
       "      <td>177.800000</td>\n",
       "      <td>26.000000</td>\n",
       "      <td>0.000000</td>\n",
       "      <td>0.000000</td>\n",
       "    </tr>\n",
       "    <tr>\n",
       "      <th>50%</th>\n",
       "      <td>180.340000</td>\n",
       "      <td>170.000000</td>\n",
       "      <td>182.880000</td>\n",
       "      <td>29.000000</td>\n",
       "      <td>1.000000</td>\n",
       "      <td>1.000000</td>\n",
       "    </tr>\n",
       "    <tr>\n",
       "      <th>75%</th>\n",
       "      <td>185.420000</td>\n",
       "      <td>185.000000</td>\n",
       "      <td>190.500000</td>\n",
       "      <td>32.000000</td>\n",
       "      <td>2.000000</td>\n",
       "      <td>2.000000</td>\n",
       "    </tr>\n",
       "    <tr>\n",
       "      <th>max</th>\n",
       "      <td>210.820000</td>\n",
       "      <td>770.000000</td>\n",
       "      <td>213.360000</td>\n",
       "      <td>51.000000</td>\n",
       "      <td>16.000000</td>\n",
       "      <td>16.000000</td>\n",
       "    </tr>\n",
       "  </tbody>\n",
       "</table>\n",
       "</div>"
      ],
      "text/plain": [
       "            Heights       Weights       Reaches          Ages   Win Streaks  \\\n",
       "count  12010.000000  12014.000000  10727.000000  11789.000000  12024.000000   \n",
       "mean     178.971445    170.638588    183.403060     29.447112      1.130988   \n",
       "std        8.761262     36.304720     10.472002      4.118991      1.624756   \n",
       "min      152.400000    115.000000    147.320000     18.000000      0.000000   \n",
       "25%      172.720000    145.000000    177.800000     26.000000      0.000000   \n",
       "50%      180.340000    170.000000    182.880000     29.000000      1.000000   \n",
       "75%      185.420000    185.000000    190.500000     32.000000      2.000000   \n",
       "max      210.820000    770.000000    213.360000     51.000000     16.000000   \n",
       "\n",
       "       Win Loss Ratio  \n",
       "count    12024.000000  \n",
       "mean         1.477975  \n",
       "std          1.614409  \n",
       "min          0.000000  \n",
       "25%          0.000000  \n",
       "50%          1.000000  \n",
       "75%          2.000000  \n",
       "max         16.000000  "
      ]
     },
     "execution_count": 539,
     "metadata": {},
     "output_type": "execute_result"
    }
   ],
   "source": [
    "heights = pd.concat([df['R_Height_cms'], df['B_Height_cms']], axis=0)\n",
    "weights = pd.concat([df['R_Weight_lbs'], df['B_Weight_lbs']], axis=0)\n",
    "reaches = pd.concat([df['R_Reach_cms'], df['B_Reach_cms']], axis=0)\n",
    "wlr = pd.concat([df['R_wlr'], df['B_wlr']], axis=0)\n",
    "ages = pd.concat([df['R_age'], df['B_age']], axis=0)\n",
    "win_streaks = pd.concat([df['R_current_win_streak'], df['B_current_win_streak']], axis=0)\n",
    "\n",
    "numerical_features = pd.concat([heights, weights, reaches, ages, win_streaks, wlr], axis=1)\n",
    "numerical_features.columns = [\"Heights\", \"Weights\", \"Reaches\", \"Ages\", \"Win Streaks\", \"Win Loss Ratio\"]\n",
    "numerical_features.describe()"
   ]
  },
  {
   "cell_type": "code",
   "execution_count": 540,
   "id": "51fb48b0",
   "metadata": {
    "id": "PeluNdntlcPA"
   },
   "outputs": [
    {
     "data": {
      "image/png": "[encoded data removed]",
      "text/plain": [
       "<Figure size 1728x432 with 5 Axes>"
      ]
     },
     "metadata": {},
     "output_type": "display_data"
    }
   ],
   "source": [
    "fig, a = plt.subplots(ncols=5, figsize=(24, 6))\n",
    "\n",
    "sns.histplot(numerical_features[\"Heights\"], kde=True, ax=a[0])\n",
    "sns.histplot(numerical_features[\"Weights\"], kde=True, ax=a[1])\n",
    "sns.histplot(numerical_features[\"Reaches\"], kde=True, ax=a[2])\n",
    "sns.histplot(numerical_features[\"Ages\"], kde=True, ax=a[3])\n",
    "sns.histplot(numerical_features[\"Win Loss Ratio\"], kde=True, ax=a[4])\n",
    "\n",
    "\n",
    "plt.show()"
   ]
  },
  {
   "cell_type": "markdown",
   "id": "5dffb142",
   "metadata": {
    "id": "alQsZw7pmLwW"
   },
   "source": [
    "We can also use a Q-Q plot to see how normally distributed the data is. The closer the data matches the 45 degree line, the more normal the distribution."
   ]
  },
  {
   "cell_type": "code",
   "execution_count": 541,
   "id": "2b7f1ab7",
   "metadata": {
    "id": "Vy01gHFsmDyH"
   },
   "outputs": [
    {
     "data": {
      "image/png": "[encoded data removed]",
      "text/plain": [
       "<Figure size 1728x432 with 5 Axes>"
      ]
     },
     "metadata": {},
     "output_type": "display_data"
    }
   ],
   "source": [
    "from scipy.stats import lognorm\n",
    "import statsmodels.api as sm\n",
    "\n",
    "fig, a = plt.subplots(ncols=5, figsize=(24, 6))\n",
    "\n",
    "sm.qqplot(heights, line='s', ax=a[0])\n",
    "sm.qqplot(weights, line='s', ax=a[1])\n",
    "sm.qqplot(reaches, line='s', ax=a[2])\n",
    "sm.qqplot(ages, line='s', ax=a[3])\n",
    "sm.qqplot(wlr, line='s', ax=a[4])\n",
    "\n",
    "a[0].set_title(\"Heights\")\n",
    "a[1].set_title(\"Weights\")\n",
    "a[2].set_title(\"Reaches\")\n",
    "a[3].set_title(\"Ages\")\n",
    "a[4].set_title(\"Win/Loss\")\n",
    "\n",
    "plt.show()"
   ]
  },
  {
   "cell_type": "markdown",
   "id": "7786e2ec",
   "metadata": {
    "id": "qa-5RflWqrwm"
   },
   "source": [
    "Based on the generated graphs, it seems `Heights`, `Reaches`, and `Ages` are relatively normally distributed. `Weights` on the otherhand seems to be a little skewed right. This is most likely due to the popularity and availability of lower weight classes versus higher weight classes. "
   ]
  },
  {
   "cell_type": "markdown",
   "id": "cb7c2976",
   "metadata": {
    "id": "DZ5iZY6AzYQe"
   },
   "source": [
    "## Exploration"
   ]
  },
  {
   "cell_type": "markdown",
   "id": "d1072d52",
   "metadata": {
    "id": "C6NDN2MhvBuf"
   },
   "source": [
    "We can also create some scatter plots to check for any patterns. It may be general to assume that fighters who are taller, heavier, have longer reach, and are older (by a certain extent) would usually win a fight. We can create a correlation map to confirm the assumption.\n"
   ]
  },
  {
   "cell_type": "code",
   "execution_count": 542,
   "id": "33cdf7be",
   "metadata": {
    "id": "6euQlymXvBBZ"
   },
   "outputs": [
    {
     "data": {
      "image/png": "[encoded data removed]",
      "text/plain": [
       "<Figure size 432x288 with 2 Axes>"
      ]
     },
     "metadata": {},
     "output_type": "display_data"
    }
   ],
   "source": [
    "sns.heatmap(numerical_features.corr(), cmap='coolwarm', annot=True)\n",
    "plt.show()"
   ]
  },
  {
   "cell_type": "markdown",
   "id": "71dd7f22",
   "metadata": {
    "id": "_jJd58OJyE-A"
   },
   "source": [
    "\n",
    "As we can see, `reach`, `weight`, and `height` are relatively positively correlated where `age` does not affect those variables. It can be assumed a taller person has a heavier weight and longer reach.\n",
    "\n",
    "We will start by creating new features that represent the difference between the red and blue fighters. The new features would be the numerical column `R` - `B`"
   ]
  },
  {
   "cell_type": "code",
   "execution_count": 543,
   "id": "765b1537",
   "metadata": {
    "id": "ScvYzIWSzj89"
   },
   "outputs": [],
   "source": [
    "# df[\"height_diff\"] = df[\"R_Height_cms\"] - df[\"B_Height_cms\"]\n",
    "# df[\"weight_diff\"] = df[\"R_Weight_lbs\"] - df[\"B_Weight_lbs\"]\n",
    "# df[\"reach_diff\"] = df[\"R_Reach_cms\"] - df[\"B_Reach_cms\"]\n",
    "# df[\"age_diff\"] = df[\"R_age\"] - df[\"B_age\"]\n",
    "# df[\"win_streak_diff\"] = df[\"R_current_win_streak\"] - df[\"B_current_win_streak\"]\n",
    "\n",
    "# df.head()"
   ]
  },
  {
   "cell_type": "code",
   "execution_count": 544,
   "id": "5faa53bc",
   "metadata": {
    "id": "zdhRMfjv0twq"
   },
   "outputs": [],
   "source": [
    "# fig, ax = plt.subplots(2, ncols=3, figsize=(24, 12))\n",
    "\n",
    "# sns.scatterplot(x=df[\"reach_diff\"], y=df[\"height_diff\"], hue=df[\"Winner\"], ax=ax[0][0])\n",
    "# sns.scatterplot(x=df[\"reach_diff\"], y=df[\"weight_diff\"], hue=df[\"Winner\"], ax=ax[0][1])\n",
    "# sns.scatterplot(x=df[\"reach_diff\"], y=df[\"age_diff\"], hue=df[\"Winner\"], ax=ax[0][2])\n",
    "\n",
    "# ax[0][0].set_title(\"reach_diff vs height_diff\")\n",
    "# ax[0][1].set_title(\"reach_diff vs weight_diff\")\n",
    "# ax[0][2].set_title(\"reach_diff vs age_diff\")\n",
    "\n",
    "# sns.scatterplot(x=df[\"height_diff\"], y=df[\"weight_diff\"], hue=df[\"Winner\"], ax=ax[1][0])\n",
    "# sns.scatterplot(x=df[\"height_diff\"], y=df[\"age_diff\"], hue=df[\"Winner\"], ax=ax[1][1])\n",
    "# sns.scatterplot(x=df[\"age_diff\"], y=df[\"weight_diff\"], hue=df[\"Winner\"], ax=ax[1][2])\n",
    "\n",
    "# ax[1][0].set_title(\"height_diff vs weight_diff\")\n",
    "# ax[1][1].set_title(\"height_diff vs age_diff\")\n",
    "# ax[1][2].set_title(\"age_diff vs weight_diff\")\n",
    "\n",
    "# plt.show()"
   ]
  },
  {
   "cell_type": "markdown",
   "id": "f878e1fe",
   "metadata": {
    "id": "Ila7RLMZGt1z"
   },
   "source": [
    "The majority of the graphs seem to be randomly with a lack of correlation. There are interesting \"circles\" as Blue wins surround the center (0, 0) of the following graphs:\n",
    "- `reach_diff vs height_diff`\n",
    "- `reach_diff vs age_diff`\n",
    "- `height_diff vs age_diff`\n",
    "\n",
    "This would indicate that a larger difference in `reach`, `height`, and `age` would result in \"Blue\" winning which surprising."
   ]
  },
  {
   "cell_type": "markdown",
   "id": "74c3f358",
   "metadata": {
    "id": "g1Q46T60cnUM"
   },
   "source": [
    "## Preprocessing\n",
    "\n",
    "Let's start by cleaning up some null data and selecting some desired features."
   ]
  },
  {
   "cell_type": "code",
   "execution_count": 545,
   "id": "b4c85f2f",
   "metadata": {
    "id": "ViQ8aBOV9Cvu"
   },
   "outputs": [
    {
     "data": {
      "text/html": [
       "<div>\n",
       "<style scoped>\n",
       "    .dataframe tbody tr th:only-of-type {\n",
       "        vertical-align: middle;\n",
       "    }\n",
       "\n",
       "    .dataframe tbody tr th {\n",
       "        vertical-align: top;\n",
       "    }\n",
       "\n",
       "    .dataframe thead th {\n",
       "        text-align: right;\n",
       "    }\n",
       "</style>\n",
       "<table border=\"1\" class=\"dataframe\">\n",
       "  <thead>\n",
       "    <tr style=\"text-align: right;\">\n",
       "      <th></th>\n",
       "      <th>Winner</th>\n",
       "      <th>R_Height_cms</th>\n",
       "      <th>B_Height_cms</th>\n",
       "      <th>R_Weight_lbs</th>\n",
       "      <th>B_Weight_lbs</th>\n",
       "      <th>R_Reach_cms</th>\n",
       "      <th>B_Reach_cms</th>\n",
       "      <th>R_age</th>\n",
       "      <th>B_age</th>\n",
       "      <th>R_current_win_streak</th>\n",
       "      <th>R_current_lose_streak</th>\n",
       "      <th>B_current_win_streak</th>\n",
       "      <th>B_current_lose_streak</th>\n",
       "      <th>R_wlr</th>\n",
       "      <th>B_wlr</th>\n",
       "      <th>R_winDiff</th>\n",
       "      <th>B_winDiff</th>\n",
       "    </tr>\n",
       "  </thead>\n",
       "  <tbody>\n",
       "    <tr>\n",
       "      <th>0</th>\n",
       "      <td>Red</td>\n",
       "      <td>170.18</td>\n",
       "      <td>165.10</td>\n",
       "      <td>135.0</td>\n",
       "      <td>135.0</td>\n",
       "      <td>177.80</td>\n",
       "      <td>170.18</td>\n",
       "      <td>27.0</td>\n",
       "      <td>31.0</td>\n",
       "      <td>1</td>\n",
       "      <td>0</td>\n",
       "      <td>0</td>\n",
       "      <td>1</td>\n",
       "      <td>1.000000</td>\n",
       "      <td>1.0</td>\n",
       "      <td>1</td>\n",
       "      <td>0</td>\n",
       "    </tr>\n",
       "    <tr>\n",
       "      <th>1</th>\n",
       "      <td>Red</td>\n",
       "      <td>182.88</td>\n",
       "      <td>187.96</td>\n",
       "      <td>185.0</td>\n",
       "      <td>205.0</td>\n",
       "      <td>187.96</td>\n",
       "      <td>193.04</td>\n",
       "      <td>28.0</td>\n",
       "      <td>32.0</td>\n",
       "      <td>2</td>\n",
       "      <td>0</td>\n",
       "      <td>2</td>\n",
       "      <td>0</td>\n",
       "      <td>2.000000</td>\n",
       "      <td>2.0</td>\n",
       "      <td>2</td>\n",
       "      <td>2</td>\n",
       "    </tr>\n",
       "    <tr>\n",
       "      <th>2</th>\n",
       "      <td>Red</td>\n",
       "      <td>187.96</td>\n",
       "      <td>187.96</td>\n",
       "      <td>264.0</td>\n",
       "      <td>241.0</td>\n",
       "      <td>190.50</td>\n",
       "      <td>190.50</td>\n",
       "      <td>28.0</td>\n",
       "      <td>32.0</td>\n",
       "      <td>3</td>\n",
       "      <td>0</td>\n",
       "      <td>0</td>\n",
       "      <td>0</td>\n",
       "      <td>1.333333</td>\n",
       "      <td>0.0</td>\n",
       "      <td>1</td>\n",
       "      <td>0</td>\n",
       "    </tr>\n",
       "    <tr>\n",
       "      <th>3</th>\n",
       "      <td>Blue</td>\n",
       "      <td>160.02</td>\n",
       "      <td>152.40</td>\n",
       "      <td>115.0</td>\n",
       "      <td>115.0</td>\n",
       "      <td>160.02</td>\n",
       "      <td>154.94</td>\n",
       "      <td>25.0</td>\n",
       "      <td>28.0</td>\n",
       "      <td>0</td>\n",
       "      <td>0</td>\n",
       "      <td>0</td>\n",
       "      <td>0</td>\n",
       "      <td>0.000000</td>\n",
       "      <td>0.0</td>\n",
       "      <td>0</td>\n",
       "      <td>0</td>\n",
       "    </tr>\n",
       "    <tr>\n",
       "      <th>4</th>\n",
       "      <td>Blue</td>\n",
       "      <td>167.64</td>\n",
       "      <td>180.34</td>\n",
       "      <td>135.0</td>\n",
       "      <td>135.0</td>\n",
       "      <td>172.72</td>\n",
       "      <td>182.88</td>\n",
       "      <td>43.0</td>\n",
       "      <td>29.0</td>\n",
       "      <td>2</td>\n",
       "      <td>0</td>\n",
       "      <td>3</td>\n",
       "      <td>0</td>\n",
       "      <td>0.833333</td>\n",
       "      <td>4.0</td>\n",
       "      <td>-1</td>\n",
       "      <td>3</td>\n",
       "    </tr>\n",
       "  </tbody>\n",
       "</table>\n",
       "</div>"
      ],
      "text/plain": [
       "  Winner  R_Height_cms  B_Height_cms  R_Weight_lbs  B_Weight_lbs  R_Reach_cms  \\\n",
       "0    Red        170.18        165.10         135.0         135.0       177.80   \n",
       "1    Red        182.88        187.96         185.0         205.0       187.96   \n",
       "2    Red        187.96        187.96         264.0         241.0       190.50   \n",
       "3   Blue        160.02        152.40         115.0         115.0       160.02   \n",
       "4   Blue        167.64        180.34         135.0         135.0       172.72   \n",
       "\n",
       "   B_Reach_cms  R_age  B_age  R_current_win_streak  R_current_lose_streak  \\\n",
       "0       170.18   27.0   31.0                     1                      0   \n",
       "1       193.04   28.0   32.0                     2                      0   \n",
       "2       190.50   28.0   32.0                     3                      0   \n",
       "3       154.94   25.0   28.0                     0                      0   \n",
       "4       182.88   43.0   29.0                     2                      0   \n",
       "\n",
       "   B_current_win_streak  B_current_lose_streak     R_wlr  B_wlr  R_winDiff  \\\n",
       "0                     0                      1  1.000000    1.0          1   \n",
       "1                     2                      0  2.000000    2.0          2   \n",
       "2                     0                      0  1.333333    0.0          1   \n",
       "3                     0                      0  0.000000    0.0          0   \n",
       "4                     3                      0  0.833333    4.0         -1   \n",
       "\n",
       "   B_winDiff  \n",
       "0          0  \n",
       "1          2  \n",
       "2          0  \n",
       "3          0  \n",
       "4          3  "
      ]
     },
     "execution_count": 545,
     "metadata": {},
     "output_type": "execute_result"
    }
   ],
   "source": [
    "features = [\n",
    "    \"Winner\",\n",
    "#    \"weight_class\",\n",
    "#    \"R_Stance\",\n",
    "#    \"B_Stance\",\n",
    "    \"R_Height_cms\",\n",
    "    \"B_Height_cms\",\n",
    "    \"R_Weight_lbs\",\n",
    "    \"B_Weight_lbs\",\n",
    "    \"R_Reach_cms\",\n",
    "    \"B_Reach_cms\",\n",
    "    \"R_age\", \n",
    "    \"B_age\",\n",
    "    \"R_current_win_streak\",\n",
    "    \"R_current_lose_streak\",\n",
    "    \"B_current_win_streak\",\n",
    "    \"B_current_lose_streak\",\n",
    "    \"R_wlr\",\n",
    "    \"B_wlr\",\n",
    "    \"R_winDiff\",\n",
    "    \"B_winDiff\"\n",
    "]\n",
    "\n",
    "orig_df = df # incase we need it again\n",
    "\n",
    "df = df[features]\n",
    "df.head()"
   ]
  },
  {
   "cell_type": "markdown",
   "id": "986c8426",
   "metadata": {
    "id": "EL7YOvDq9TPy"
   },
   "source": [
    "Let's remove the entries with missing data."
   ]
  },
  {
   "cell_type": "code",
   "execution_count": 546,
   "id": "ec2201b7",
   "metadata": {
    "id": "yIPtZlln9Qkv"
   },
   "outputs": [
    {
     "data": {
      "text/plain": [
       "Winner                     0\n",
       "R_Height_cms               4\n",
       "B_Height_cms              10\n",
       "R_Weight_lbs               2\n",
       "B_Weight_lbs               8\n",
       "R_Reach_cms              406\n",
       "B_Reach_cms              891\n",
       "R_age                     63\n",
       "B_age                    172\n",
       "R_current_win_streak       0\n",
       "R_current_lose_streak      0\n",
       "B_current_win_streak       0\n",
       "B_current_lose_streak      0\n",
       "R_wlr                      0\n",
       "B_wlr                      0\n",
       "R_winDiff                  0\n",
       "B_winDiff                  0\n",
       "dtype: int64"
      ]
     },
     "execution_count": 546,
     "metadata": {},
     "output_type": "execute_result"
    }
   ],
   "source": [
    "df.isnull().sum()"
   ]
  },
  {
   "cell_type": "code",
   "execution_count": 547,
   "id": "8d2eeeee",
   "metadata": {
    "id": "qyantjIO9AvX"
   },
   "outputs": [
    {
     "data": {
      "text/plain": [
       "(4954, 17)"
      ]
     },
     "execution_count": 547,
     "metadata": {},
     "output_type": "execute_result"
    }
   ],
   "source": [
    "# Remove entries with missing features\n",
    "df = df.dropna()\n",
    "\n",
    "df.shape"
   ]
  },
  {
   "cell_type": "code",
   "execution_count": 548,
   "id": "ff540fae",
   "metadata": {
    "id": "6FamXlrP9i2N"
   },
   "outputs": [
    {
     "data": {
      "text/plain": [
       "Winner                   0\n",
       "R_Height_cms             0\n",
       "B_Height_cms             0\n",
       "R_Weight_lbs             0\n",
       "B_Weight_lbs             0\n",
       "R_Reach_cms              0\n",
       "B_Reach_cms              0\n",
       "R_age                    0\n",
       "B_age                    0\n",
       "R_current_win_streak     0\n",
       "R_current_lose_streak    0\n",
       "B_current_win_streak     0\n",
       "B_current_lose_streak    0\n",
       "R_wlr                    0\n",
       "B_wlr                    0\n",
       "R_winDiff                0\n",
       "B_winDiff                0\n",
       "dtype: int64"
      ]
     },
     "execution_count": 548,
     "metadata": {},
     "output_type": "execute_result"
    }
   ],
   "source": [
    "df.isnull().sum()"
   ]
  },
  {
   "cell_type": "markdown",
   "id": "bed30714",
   "metadata": {
    "id": "6uQbFlzg-aS3"
   },
   "source": [
    "We now have 4946 entries."
   ]
  },
  {
   "cell_type": "code",
   "execution_count": 549,
   "id": "56e199db",
   "metadata": {
    "id": "JsixdvEw8mDo"
   },
   "outputs": [
    {
     "data": {
      "text/html": [
       "<div>\n",
       "<style scoped>\n",
       "    .dataframe tbody tr th:only-of-type {\n",
       "        vertical-align: middle;\n",
       "    }\n",
       "\n",
       "    .dataframe tbody tr th {\n",
       "        vertical-align: top;\n",
       "    }\n",
       "\n",
       "    .dataframe thead th {\n",
       "        text-align: right;\n",
       "    }\n",
       "</style>\n",
       "<table border=\"1\" class=\"dataframe\">\n",
       "  <thead>\n",
       "    <tr style=\"text-align: right;\">\n",
       "      <th></th>\n",
       "      <th>Winner</th>\n",
       "      <th>R_Height_cms</th>\n",
       "      <th>B_Height_cms</th>\n",
       "      <th>R_Weight_lbs</th>\n",
       "      <th>B_Weight_lbs</th>\n",
       "      <th>R_Reach_cms</th>\n",
       "      <th>B_Reach_cms</th>\n",
       "      <th>R_age</th>\n",
       "      <th>B_age</th>\n",
       "      <th>R_current_win_streak</th>\n",
       "      <th>R_current_lose_streak</th>\n",
       "      <th>B_current_win_streak</th>\n",
       "      <th>B_current_lose_streak</th>\n",
       "      <th>R_wlr</th>\n",
       "      <th>B_wlr</th>\n",
       "      <th>R_winDiff</th>\n",
       "      <th>B_winDiff</th>\n",
       "    </tr>\n",
       "  </thead>\n",
       "  <tbody>\n",
       "    <tr>\n",
       "      <th>0</th>\n",
       "      <td>Red</td>\n",
       "      <td>170.18</td>\n",
       "      <td>165.10</td>\n",
       "      <td>135.0</td>\n",
       "      <td>135.0</td>\n",
       "      <td>177.80</td>\n",
       "      <td>170.18</td>\n",
       "      <td>27.0</td>\n",
       "      <td>31.0</td>\n",
       "      <td>1</td>\n",
       "      <td>0</td>\n",
       "      <td>0</td>\n",
       "      <td>1</td>\n",
       "      <td>1.000000</td>\n",
       "      <td>1.0</td>\n",
       "      <td>1</td>\n",
       "      <td>0</td>\n",
       "    </tr>\n",
       "    <tr>\n",
       "      <th>1</th>\n",
       "      <td>Red</td>\n",
       "      <td>182.88</td>\n",
       "      <td>187.96</td>\n",
       "      <td>185.0</td>\n",
       "      <td>205.0</td>\n",
       "      <td>187.96</td>\n",
       "      <td>193.04</td>\n",
       "      <td>28.0</td>\n",
       "      <td>32.0</td>\n",
       "      <td>2</td>\n",
       "      <td>0</td>\n",
       "      <td>2</td>\n",
       "      <td>0</td>\n",
       "      <td>2.000000</td>\n",
       "      <td>2.0</td>\n",
       "      <td>2</td>\n",
       "      <td>2</td>\n",
       "    </tr>\n",
       "    <tr>\n",
       "      <th>2</th>\n",
       "      <td>Red</td>\n",
       "      <td>187.96</td>\n",
       "      <td>187.96</td>\n",
       "      <td>264.0</td>\n",
       "      <td>241.0</td>\n",
       "      <td>190.50</td>\n",
       "      <td>190.50</td>\n",
       "      <td>28.0</td>\n",
       "      <td>32.0</td>\n",
       "      <td>3</td>\n",
       "      <td>0</td>\n",
       "      <td>0</td>\n",
       "      <td>0</td>\n",
       "      <td>1.333333</td>\n",
       "      <td>0.0</td>\n",
       "      <td>1</td>\n",
       "      <td>0</td>\n",
       "    </tr>\n",
       "    <tr>\n",
       "      <th>3</th>\n",
       "      <td>Blue</td>\n",
       "      <td>160.02</td>\n",
       "      <td>152.40</td>\n",
       "      <td>115.0</td>\n",
       "      <td>115.0</td>\n",
       "      <td>160.02</td>\n",
       "      <td>154.94</td>\n",
       "      <td>25.0</td>\n",
       "      <td>28.0</td>\n",
       "      <td>0</td>\n",
       "      <td>0</td>\n",
       "      <td>0</td>\n",
       "      <td>0</td>\n",
       "      <td>0.000000</td>\n",
       "      <td>0.0</td>\n",
       "      <td>0</td>\n",
       "      <td>0</td>\n",
       "    </tr>\n",
       "    <tr>\n",
       "      <th>4</th>\n",
       "      <td>Blue</td>\n",
       "      <td>167.64</td>\n",
       "      <td>180.34</td>\n",
       "      <td>135.0</td>\n",
       "      <td>135.0</td>\n",
       "      <td>172.72</td>\n",
       "      <td>182.88</td>\n",
       "      <td>43.0</td>\n",
       "      <td>29.0</td>\n",
       "      <td>2</td>\n",
       "      <td>0</td>\n",
       "      <td>3</td>\n",
       "      <td>0</td>\n",
       "      <td>0.833333</td>\n",
       "      <td>4.0</td>\n",
       "      <td>-1</td>\n",
       "      <td>3</td>\n",
       "    </tr>\n",
       "  </tbody>\n",
       "</table>\n",
       "</div>"
      ],
      "text/plain": [
       "  Winner  R_Height_cms  B_Height_cms  R_Weight_lbs  B_Weight_lbs  R_Reach_cms  \\\n",
       "0    Red        170.18        165.10         135.0         135.0       177.80   \n",
       "1    Red        182.88        187.96         185.0         205.0       187.96   \n",
       "2    Red        187.96        187.96         264.0         241.0       190.50   \n",
       "3   Blue        160.02        152.40         115.0         115.0       160.02   \n",
       "4   Blue        167.64        180.34         135.0         135.0       172.72   \n",
       "\n",
       "   B_Reach_cms  R_age  B_age  R_current_win_streak  R_current_lose_streak  \\\n",
       "0       170.18   27.0   31.0                     1                      0   \n",
       "1       193.04   28.0   32.0                     2                      0   \n",
       "2       190.50   28.0   32.0                     3                      0   \n",
       "3       154.94   25.0   28.0                     0                      0   \n",
       "4       182.88   43.0   29.0                     2                      0   \n",
       "\n",
       "   B_current_win_streak  B_current_lose_streak     R_wlr  B_wlr  R_winDiff  \\\n",
       "0                     0                      1  1.000000    1.0          1   \n",
       "1                     2                      0  2.000000    2.0          2   \n",
       "2                     0                      0  1.333333    0.0          1   \n",
       "3                     0                      0  0.000000    0.0          0   \n",
       "4                     3                      0  0.833333    4.0         -1   \n",
       "\n",
       "   B_winDiff  \n",
       "0          0  \n",
       "1          2  \n",
       "2          0  \n",
       "3          0  \n",
       "4          3  "
      ]
     },
     "execution_count": 549,
     "metadata": {},
     "output_type": "execute_result"
    }
   ],
   "source": [
    "df.head()"
   ]
  },
  {
   "cell_type": "code",
   "execution_count": 550,
   "id": "134d9f6e",
   "metadata": {
    "id": "eu9HnSwh-PRs"
   },
   "outputs": [
    {
     "name": "stdout",
     "output_type": "stream",
     "text": [
      "     Winner  R_Height_cms  B_Height_cms  R_Weight_lbs  B_Weight_lbs  \\\n",
      "0       Red        170.18        165.10         135.0         135.0   \n",
      "1       Red        182.88        187.96         185.0         205.0   \n",
      "2       Red        187.96        187.96         264.0         241.0   \n",
      "3      Blue        160.02        152.40         115.0         115.0   \n",
      "4      Blue        167.64        180.34         135.0         135.0   \n",
      "...     ...           ...           ...           ...           ...   \n",
      "5768    Red        175.26        175.26         155.0         170.0   \n",
      "5799    Red        190.50        180.34         205.0         205.0   \n",
      "5840    Red        185.42        187.96         185.0         205.0   \n",
      "5857    Red        182.88        180.34         185.0         205.0   \n",
      "5884    Red        185.42        182.88         205.0         185.0   \n",
      "\n",
      "      R_Reach_cms  B_Reach_cms  R_age  B_age  R_current_win_streak  \\\n",
      "0          177.80       170.18   27.0   31.0                     1   \n",
      "1          187.96       193.04   28.0   32.0                     2   \n",
      "2          190.50       190.50   28.0   32.0                     3   \n",
      "3          160.02       154.94   25.0   28.0                     0   \n",
      "4          172.72       182.88   43.0   29.0                     2   \n",
      "...           ...          ...    ...    ...                   ...   \n",
      "5768       182.88       185.42   25.0   27.0                     0   \n",
      "5799       187.96       187.96   25.0   23.0                     1   \n",
      "5840       187.96       193.04   23.0   29.0                     0   \n",
      "5857       187.96       187.96   21.0   22.0                     3   \n",
      "5884       190.50       187.96   34.0   20.0                     2   \n",
      "\n",
      "      R_current_lose_streak  B_current_win_streak  B_current_lose_streak  \\\n",
      "0                         0                     0                      1   \n",
      "1                         0                     2                      0   \n",
      "2                         0                     0                      0   \n",
      "3                         0                     0                      0   \n",
      "4                         0                     3                      0   \n",
      "...                     ...                   ...                    ...   \n",
      "5768                      0                     2                      0   \n",
      "5799                      0                     0                      1   \n",
      "5840                      2                     1                      0   \n",
      "5857                      0                     0                      0   \n",
      "5884                      0                     3                      0   \n",
      "\n",
      "         R_wlr  B_wlr  R_winDiff  B_winDiff  \n",
      "0     1.000000    1.0          1          0  \n",
      "1     2.000000    2.0          2          2  \n",
      "2     1.333333    0.0          1          0  \n",
      "3     0.000000    0.0          0          0  \n",
      "4     0.833333    4.0         -1          3  \n",
      "...        ...    ...        ...        ...  \n",
      "5768  0.000000    2.0          0          2  \n",
      "5799  1.500000    1.0          1          0  \n",
      "5840  0.000000    1.0         -2          1  \n",
      "5857  4.000000    0.0          3          0  \n",
      "5884  2.000000    3.0          2          3  \n",
      "\n",
      "[4954 rows x 17 columns]\n"
     ]
    }
   ],
   "source": [
    "print(df)"
   ]
  },
  {
   "cell_type": "markdown",
   "id": "3d1906e0",
   "metadata": {
    "id": "0OG3a8Pxrd_D"
   },
   "source": [
    "# Supervised Analysis"
   ]
  },
  {
   "cell_type": "code",
   "execution_count": 551,
   "id": "7c4e8301",
   "metadata": {
    "id": "VrFCj7JY2ZHK"
   },
   "outputs": [],
   "source": [
    "# models\n",
    "from sklearn.linear_model import LogisticRegression\n",
    "from sklearn.svm import SVC\n",
    "from sklearn.neural_network import MLPClassifier\n",
    "\n",
    "# tuning\n",
    "from sklearn.model_selection import train_test_split, GridSearchCV, RandomizedSearchCV\n",
    "\n",
    "# preprocessing\n",
    "from sklearn.preprocessing import StandardScaler"
   ]
  },
  {
   "cell_type": "markdown",
   "id": "87eb93b5",
   "metadata": {
    "id": "nN6bwfMWrgG7"
   },
   "source": [
    "## Logistic Regression"
   ]
  },
  {
   "cell_type": "code",
   "execution_count": 552,
   "id": "918f9d01",
   "metadata": {
    "id": "R-3zauqchCYB"
   },
   "outputs": [],
   "source": [
    "log_df = df\n",
    "\n",
    "y = log_df.loc[:, \"Winner\"]\n",
    "X = log_df.loc[:, log_df.columns != \"Winner\"]\n",
    "\n",
    "X_train, X_test, y_train, y_test = train_test_split(X, y, test_size=0.2, random_state=42)"
   ]
  },
  {
   "cell_type": "code",
   "execution_count": 553,
   "id": "a256901d",
   "metadata": {
    "id": "5kUN91Oq4L_7"
   },
   "outputs": [
    {
     "data": {
      "text/html": [
       "<div>\n",
       "<style scoped>\n",
       "    .dataframe tbody tr th:only-of-type {\n",
       "        vertical-align: middle;\n",
       "    }\n",
       "\n",
       "    .dataframe tbody tr th {\n",
       "        vertical-align: top;\n",
       "    }\n",
       "\n",
       "    .dataframe thead th {\n",
       "        text-align: right;\n",
       "    }\n",
       "</style>\n",
       "<table border=\"1\" class=\"dataframe\">\n",
       "  <thead>\n",
       "    <tr style=\"text-align: right;\">\n",
       "      <th></th>\n",
       "      <th>Winner</th>\n",
       "      <th>R_Height_cms</th>\n",
       "      <th>B_Height_cms</th>\n",
       "      <th>R_Weight_lbs</th>\n",
       "      <th>B_Weight_lbs</th>\n",
       "      <th>R_Reach_cms</th>\n",
       "      <th>B_Reach_cms</th>\n",
       "      <th>R_age</th>\n",
       "      <th>B_age</th>\n",
       "      <th>R_current_win_streak</th>\n",
       "      <th>R_current_lose_streak</th>\n",
       "      <th>B_current_win_streak</th>\n",
       "      <th>B_current_lose_streak</th>\n",
       "      <th>R_wlr</th>\n",
       "      <th>B_wlr</th>\n",
       "      <th>R_winDiff</th>\n",
       "      <th>B_winDiff</th>\n",
       "    </tr>\n",
       "  </thead>\n",
       "  <tbody>\n",
       "    <tr>\n",
       "      <th>0</th>\n",
       "      <td>Red</td>\n",
       "      <td>170.18</td>\n",
       "      <td>165.10</td>\n",
       "      <td>135.0</td>\n",
       "      <td>135.0</td>\n",
       "      <td>177.80</td>\n",
       "      <td>170.18</td>\n",
       "      <td>27.0</td>\n",
       "      <td>31.0</td>\n",
       "      <td>1</td>\n",
       "      <td>0</td>\n",
       "      <td>0</td>\n",
       "      <td>1</td>\n",
       "      <td>1.000000</td>\n",
       "      <td>1.0</td>\n",
       "      <td>1</td>\n",
       "      <td>0</td>\n",
       "    </tr>\n",
       "    <tr>\n",
       "      <th>1</th>\n",
       "      <td>Red</td>\n",
       "      <td>182.88</td>\n",
       "      <td>187.96</td>\n",
       "      <td>185.0</td>\n",
       "      <td>205.0</td>\n",
       "      <td>187.96</td>\n",
       "      <td>193.04</td>\n",
       "      <td>28.0</td>\n",
       "      <td>32.0</td>\n",
       "      <td>2</td>\n",
       "      <td>0</td>\n",
       "      <td>2</td>\n",
       "      <td>0</td>\n",
       "      <td>2.000000</td>\n",
       "      <td>2.0</td>\n",
       "      <td>2</td>\n",
       "      <td>2</td>\n",
       "    </tr>\n",
       "    <tr>\n",
       "      <th>2</th>\n",
       "      <td>Red</td>\n",
       "      <td>187.96</td>\n",
       "      <td>187.96</td>\n",
       "      <td>264.0</td>\n",
       "      <td>241.0</td>\n",
       "      <td>190.50</td>\n",
       "      <td>190.50</td>\n",
       "      <td>28.0</td>\n",
       "      <td>32.0</td>\n",
       "      <td>3</td>\n",
       "      <td>0</td>\n",
       "      <td>0</td>\n",
       "      <td>0</td>\n",
       "      <td>1.333333</td>\n",
       "      <td>0.0</td>\n",
       "      <td>1</td>\n",
       "      <td>0</td>\n",
       "    </tr>\n",
       "    <tr>\n",
       "      <th>3</th>\n",
       "      <td>Blue</td>\n",
       "      <td>160.02</td>\n",
       "      <td>152.40</td>\n",
       "      <td>115.0</td>\n",
       "      <td>115.0</td>\n",
       "      <td>160.02</td>\n",
       "      <td>154.94</td>\n",
       "      <td>25.0</td>\n",
       "      <td>28.0</td>\n",
       "      <td>0</td>\n",
       "      <td>0</td>\n",
       "      <td>0</td>\n",
       "      <td>0</td>\n",
       "      <td>0.000000</td>\n",
       "      <td>0.0</td>\n",
       "      <td>0</td>\n",
       "      <td>0</td>\n",
       "    </tr>\n",
       "    <tr>\n",
       "      <th>4</th>\n",
       "      <td>Blue</td>\n",
       "      <td>167.64</td>\n",
       "      <td>180.34</td>\n",
       "      <td>135.0</td>\n",
       "      <td>135.0</td>\n",
       "      <td>172.72</td>\n",
       "      <td>182.88</td>\n",
       "      <td>43.0</td>\n",
       "      <td>29.0</td>\n",
       "      <td>2</td>\n",
       "      <td>0</td>\n",
       "      <td>3</td>\n",
       "      <td>0</td>\n",
       "      <td>0.833333</td>\n",
       "      <td>4.0</td>\n",
       "      <td>-1</td>\n",
       "      <td>3</td>\n",
       "    </tr>\n",
       "  </tbody>\n",
       "</table>\n",
       "</div>"
      ],
      "text/plain": [
       "  Winner  R_Height_cms  B_Height_cms  R_Weight_lbs  B_Weight_lbs  R_Reach_cms  \\\n",
       "0    Red        170.18        165.10         135.0         135.0       177.80   \n",
       "1    Red        182.88        187.96         185.0         205.0       187.96   \n",
       "2    Red        187.96        187.96         264.0         241.0       190.50   \n",
       "3   Blue        160.02        152.40         115.0         115.0       160.02   \n",
       "4   Blue        167.64        180.34         135.0         135.0       172.72   \n",
       "\n",
       "   B_Reach_cms  R_age  B_age  R_current_win_streak  R_current_lose_streak  \\\n",
       "0       170.18   27.0   31.0                     1                      0   \n",
       "1       193.04   28.0   32.0                     2                      0   \n",
       "2       190.50   28.0   32.0                     3                      0   \n",
       "3       154.94   25.0   28.0                     0                      0   \n",
       "4       182.88   43.0   29.0                     2                      0   \n",
       "\n",
       "   B_current_win_streak  B_current_lose_streak     R_wlr  B_wlr  R_winDiff  \\\n",
       "0                     0                      1  1.000000    1.0          1   \n",
       "1                     2                      0  2.000000    2.0          2   \n",
       "2                     0                      0  1.333333    0.0          1   \n",
       "3                     0                      0  0.000000    0.0          0   \n",
       "4                     3                      0  0.833333    4.0         -1   \n",
       "\n",
       "   B_winDiff  \n",
       "0          0  \n",
       "1          2  \n",
       "2          0  \n",
       "3          0  \n",
       "4          3  "
      ]
     },
     "execution_count": 553,
     "metadata": {},
     "output_type": "execute_result"
    }
   ],
   "source": [
    "log_df.head()"
   ]
  },
  {
   "cell_type": "code",
   "execution_count": 554,
   "id": "ec2de27c",
   "metadata": {
    "id": "XZyRHYThmzha"
   },
   "outputs": [
    {
     "name": "stdout",
     "output_type": "stream",
     "text": [
      "      R_Height_cms  B_Height_cms  R_Weight_lbs  B_Weight_lbs  R_Reach_cms  \\\n",
      "3686        172.72        172.72         155.0         155.0       175.26   \n",
      "2268        185.42        180.34         170.0         170.0       193.04   \n",
      "1215        190.50        193.04         205.0         205.0       203.20   \n",
      "81          182.88        172.72         155.0         155.0       190.50   \n",
      "811         190.50        193.04         240.0         265.0       195.58   \n",
      "...            ...           ...           ...           ...          ...   \n",
      "4887        187.96        187.96         230.0         245.0       185.42   \n",
      "472         162.56        172.72         135.0         135.0       162.56   \n",
      "3318        177.80        177.80         155.0         155.0       177.80   \n",
      "4119        182.88        182.88         170.0         170.0       190.50   \n",
      "868         165.10        167.64         125.0         125.0       167.64   \n",
      "\n",
      "      B_Reach_cms  R_age  B_age  R_current_win_streak  R_current_lose_streak  \\\n",
      "3686       177.80   32.0   31.0                     0                      2   \n",
      "2268       185.42   36.0   32.0                     3                      0   \n",
      "1215       195.58   35.0   28.0                     4                      0   \n",
      "81         180.34   30.0   34.0                     1                      0   \n",
      "811        198.12   40.0   37.0                     1                      0   \n",
      "...           ...    ...    ...                   ...                    ...   \n",
      "4887       195.58   34.0   35.0                     1                      0   \n",
      "472        172.72   33.0   35.0                     4                      0   \n",
      "3318       185.42   27.0   28.0                     0                      1   \n",
      "4119       190.50   31.0   29.0                     1                      0   \n",
      "868        167.64   31.0   32.0                     1                      0   \n",
      "\n",
      "      B_current_win_streak  B_current_lose_streak     R_wlr     B_wlr  \\\n",
      "3686                     1                      0  0.600000  1.000000   \n",
      "2268                     0                      3  1.500000  0.250000   \n",
      "1215                     3                      0  1.833333  3.000000   \n",
      "81                       0                      0  2.000000  0.000000   \n",
      "811                      0                      1  1.230769  1.200000   \n",
      "...                    ...                    ...       ...       ...   \n",
      "4887                     0                      1  0.500000  0.000000   \n",
      "472                      5                      0  4.500000  5.000000   \n",
      "3318                     0                      2  3.000000  0.500000   \n",
      "4119                     1                      0  1.200000  1.000000   \n",
      "868                      0                      2  2.500000  0.666667   \n",
      "\n",
      "      R_winDiff  B_winDiff  \n",
      "3686         -2          0  \n",
      "2268          2         -3  \n",
      "1215          5          3  \n",
      "81            5          0  \n",
      "811           3          1  \n",
      "...         ...        ...  \n",
      "4887         -1         -1  \n",
      "472           7          4  \n",
      "3318          2         -1  \n",
      "4119          1          1  \n",
      "868           3         -2  \n",
      "\n",
      "[3963 rows x 16 columns]\n",
      "Train Score: 0.6172091849608882\n",
      "Test Score: 0.649848637739657\n"
     ]
    }
   ],
   "source": [
    "logreg_model1 = LogisticRegression(penalty = \"none\")\n",
    "print(X_train)\n",
    "logreg_model1.fit(X_train, y_train)\n",
    "\n",
    "print(f'Train Score: {logreg_model1.score(X_train, y_train)}')\n",
    "print(f'Test Score: {logreg_model1.score(X_test, y_test)}')"
   ]
  },
  {
   "cell_type": "code",
   "execution_count": 555,
   "id": "9e0813e9",
   "metadata": {
    "id": "kUyBUc6-tqE8"
   },
   "outputs": [
    {
     "name": "stdout",
     "output_type": "stream",
     "text": [
      "{'C': 100, 'penalty': 'l2', 'solver': 'liblinear'}\n",
      "0.6209978091125632\n"
     ]
    }
   ],
   "source": [
    "logreg_model2 = LogisticRegression()\n",
    "\n",
    "parameters = {\n",
    "    'C': [0.001, 0.01, 0.1, 1, 10, 100, 1000],\n",
    "    'penalty': ['l1','l2'],\n",
    "    'solver': ['liblinear']\n",
    "}\n",
    "\n",
    "log_gridsearch = GridSearchCV(logreg_model2, parameters, cv=5)\n",
    "\n",
    "log_gridsearch.fit(X_train, y_train)\n",
    "log_gridsearch.best_estimator_.predict(X_test)\n",
    "\n",
    "print(log_gridsearch.best_params_)\n",
    "print(log_gridsearch.best_score_)"
   ]
  },
  {
   "cell_type": "code",
   "execution_count": 556,
   "id": "aa4bb097",
   "metadata": {
    "id": "rE9sz6AivhHG"
   },
   "outputs": [
    {
     "name": "stdout",
     "output_type": "stream",
     "text": [
      "Train Score: 0.6187231895029018\n",
      "Test Score: 0.6528758829465187\n"
     ]
    }
   ],
   "source": [
    "logreg_model3 = LogisticRegression(\n",
    "    C= 0.001,\n",
    "    penalty='l2',\n",
    "    solver='liblinear'\n",
    ")\n",
    "\n",
    "logreg_model3.fit(X_train, y_train)\n",
    "\n",
    "\n",
    "print(f'Train Score: {logreg_model3.score(X_train, y_train)}')\n",
    "print(f'Test Score: {logreg_model3.score(X_test, y_test)}')"
   ]
  },
  {
   "cell_type": "markdown",
   "id": "663813de",
   "metadata": {
    "id": "ja2LoF4wriOK"
   },
   "source": [
    "## SVM\n",
    "\n",
    "We will be using the classifier version of SVM. Typically for SVMs, the data needs to be normalized."
   ]
  },
  {
   "cell_type": "code",
   "execution_count": 557,
   "id": "8df8a8d6",
   "metadata": {
    "id": "rz0nlRW8q_ac"
   },
   "outputs": [
    {
     "ename": "KeyError",
     "evalue": "\"None of [Index(['height_diff', 'weight_diff', 'reach_diff', 'age_diff'], dtype='object')] are in the [columns]\"",
     "output_type": "error",
     "traceback": [
      "\u001b[1;31m---------------------------------------------------------------------------\u001b[0m",
      "\u001b[1;31mKeyError\u001b[0m                                  Traceback (most recent call last)",
      "\u001b[1;32m<ipython-input-557-0a32771ac810>\u001b[0m in \u001b[0;36m<module>\u001b[1;34m\u001b[0m\n\u001b[0;32m      5\u001b[0m \u001b[0mfeatures\u001b[0m \u001b[1;33m=\u001b[0m \u001b[1;33m[\u001b[0m\u001b[1;34m\"height_diff\"\u001b[0m\u001b[1;33m,\u001b[0m \u001b[1;34m\"weight_diff\"\u001b[0m\u001b[1;33m,\u001b[0m \u001b[1;34m\"reach_diff\"\u001b[0m\u001b[1;33m,\u001b[0m \u001b[1;34m\"age_diff\"\u001b[0m\u001b[1;33m]\u001b[0m\u001b[1;33m\u001b[0m\u001b[1;33m\u001b[0m\u001b[0m\n\u001b[0;32m      6\u001b[0m \u001b[1;33m\u001b[0m\u001b[0m\n\u001b[1;32m----> 7\u001b[1;33m \u001b[0msvc_df\u001b[0m\u001b[1;33m[\u001b[0m\u001b[0mfeatures\u001b[0m\u001b[1;33m]\u001b[0m \u001b[1;33m=\u001b[0m \u001b[0mscaler\u001b[0m\u001b[1;33m.\u001b[0m\u001b[0mfit_transform\u001b[0m\u001b[1;33m(\u001b[0m\u001b[0msvc_df\u001b[0m\u001b[1;33m[\u001b[0m\u001b[0mfeatures\u001b[0m\u001b[1;33m]\u001b[0m\u001b[1;33m)\u001b[0m\u001b[1;33m\u001b[0m\u001b[1;33m\u001b[0m\u001b[0m\n\u001b[0m\u001b[0;32m      8\u001b[0m \u001b[1;33m\u001b[0m\u001b[0m\n\u001b[0;32m      9\u001b[0m \u001b[0msvc_df\u001b[0m\u001b[1;33m.\u001b[0m\u001b[0mhead\u001b[0m\u001b[1;33m(\u001b[0m\u001b[1;33m)\u001b[0m\u001b[1;33m\u001b[0m\u001b[1;33m\u001b[0m\u001b[0m\n",
      "\u001b[1;32m~\\anaconda3\\lib\\site-packages\\pandas\\core\\frame.py\u001b[0m in \u001b[0;36m__getitem__\u001b[1;34m(self, key)\u001b[0m\n\u001b[0;32m   3028\u001b[0m             \u001b[1;32mif\u001b[0m \u001b[0mis_iterator\u001b[0m\u001b[1;33m(\u001b[0m\u001b[0mkey\u001b[0m\u001b[1;33m)\u001b[0m\u001b[1;33m:\u001b[0m\u001b[1;33m\u001b[0m\u001b[1;33m\u001b[0m\u001b[0m\n\u001b[0;32m   3029\u001b[0m                 \u001b[0mkey\u001b[0m \u001b[1;33m=\u001b[0m \u001b[0mlist\u001b[0m\u001b[1;33m(\u001b[0m\u001b[0mkey\u001b[0m\u001b[1;33m)\u001b[0m\u001b[1;33m\u001b[0m\u001b[1;33m\u001b[0m\u001b[0m\n\u001b[1;32m-> 3030\u001b[1;33m             \u001b[0mindexer\u001b[0m \u001b[1;33m=\u001b[0m \u001b[0mself\u001b[0m\u001b[1;33m.\u001b[0m\u001b[0mloc\u001b[0m\u001b[1;33m.\u001b[0m\u001b[0m_get_listlike_indexer\u001b[0m\u001b[1;33m(\u001b[0m\u001b[0mkey\u001b[0m\u001b[1;33m,\u001b[0m \u001b[0maxis\u001b[0m\u001b[1;33m=\u001b[0m\u001b[1;36m1\u001b[0m\u001b[1;33m,\u001b[0m \u001b[0mraise_missing\u001b[0m\u001b[1;33m=\u001b[0m\u001b[1;32mTrue\u001b[0m\u001b[1;33m)\u001b[0m\u001b[1;33m[\u001b[0m\u001b[1;36m1\u001b[0m\u001b[1;33m]\u001b[0m\u001b[1;33m\u001b[0m\u001b[1;33m\u001b[0m\u001b[0m\n\u001b[0m\u001b[0;32m   3031\u001b[0m \u001b[1;33m\u001b[0m\u001b[0m\n\u001b[0;32m   3032\u001b[0m         \u001b[1;31m# take() does not accept boolean indexers\u001b[0m\u001b[1;33m\u001b[0m\u001b[1;33m\u001b[0m\u001b[1;33m\u001b[0m\u001b[0m\n",
      "\u001b[1;32m~\\anaconda3\\lib\\site-packages\\pandas\\core\\indexing.py\u001b[0m in \u001b[0;36m_get_listlike_indexer\u001b[1;34m(self, key, axis, raise_missing)\u001b[0m\n\u001b[0;32m   1264\u001b[0m             \u001b[0mkeyarr\u001b[0m\u001b[1;33m,\u001b[0m \u001b[0mindexer\u001b[0m\u001b[1;33m,\u001b[0m \u001b[0mnew_indexer\u001b[0m \u001b[1;33m=\u001b[0m \u001b[0max\u001b[0m\u001b[1;33m.\u001b[0m\u001b[0m_reindex_non_unique\u001b[0m\u001b[1;33m(\u001b[0m\u001b[0mkeyarr\u001b[0m\u001b[1;33m)\u001b[0m\u001b[1;33m\u001b[0m\u001b[1;33m\u001b[0m\u001b[0m\n\u001b[0;32m   1265\u001b[0m \u001b[1;33m\u001b[0m\u001b[0m\n\u001b[1;32m-> 1266\u001b[1;33m         \u001b[0mself\u001b[0m\u001b[1;33m.\u001b[0m\u001b[0m_validate_read_indexer\u001b[0m\u001b[1;33m(\u001b[0m\u001b[0mkeyarr\u001b[0m\u001b[1;33m,\u001b[0m \u001b[0mindexer\u001b[0m\u001b[1;33m,\u001b[0m \u001b[0maxis\u001b[0m\u001b[1;33m,\u001b[0m \u001b[0mraise_missing\u001b[0m\u001b[1;33m=\u001b[0m\u001b[0mraise_missing\u001b[0m\u001b[1;33m)\u001b[0m\u001b[1;33m\u001b[0m\u001b[1;33m\u001b[0m\u001b[0m\n\u001b[0m\u001b[0;32m   1267\u001b[0m         \u001b[1;32mreturn\u001b[0m \u001b[0mkeyarr\u001b[0m\u001b[1;33m,\u001b[0m \u001b[0mindexer\u001b[0m\u001b[1;33m\u001b[0m\u001b[1;33m\u001b[0m\u001b[0m\n\u001b[0;32m   1268\u001b[0m \u001b[1;33m\u001b[0m\u001b[0m\n",
      "\u001b[1;32m~\\anaconda3\\lib\\site-packages\\pandas\\core\\indexing.py\u001b[0m in \u001b[0;36m_validate_read_indexer\u001b[1;34m(self, key, indexer, axis, raise_missing)\u001b[0m\n\u001b[0;32m   1306\u001b[0m             \u001b[1;32mif\u001b[0m \u001b[0mmissing\u001b[0m \u001b[1;33m==\u001b[0m \u001b[0mlen\u001b[0m\u001b[1;33m(\u001b[0m\u001b[0mindexer\u001b[0m\u001b[1;33m)\u001b[0m\u001b[1;33m:\u001b[0m\u001b[1;33m\u001b[0m\u001b[1;33m\u001b[0m\u001b[0m\n\u001b[0;32m   1307\u001b[0m                 \u001b[0maxis_name\u001b[0m \u001b[1;33m=\u001b[0m \u001b[0mself\u001b[0m\u001b[1;33m.\u001b[0m\u001b[0mobj\u001b[0m\u001b[1;33m.\u001b[0m\u001b[0m_get_axis_name\u001b[0m\u001b[1;33m(\u001b[0m\u001b[0maxis\u001b[0m\u001b[1;33m)\u001b[0m\u001b[1;33m\u001b[0m\u001b[1;33m\u001b[0m\u001b[0m\n\u001b[1;32m-> 1308\u001b[1;33m                 \u001b[1;32mraise\u001b[0m \u001b[0mKeyError\u001b[0m\u001b[1;33m(\u001b[0m\u001b[1;34mf\"None of [{key}] are in the [{axis_name}]\"\u001b[0m\u001b[1;33m)\u001b[0m\u001b[1;33m\u001b[0m\u001b[1;33m\u001b[0m\u001b[0m\n\u001b[0m\u001b[0;32m   1309\u001b[0m \u001b[1;33m\u001b[0m\u001b[0m\n\u001b[0;32m   1310\u001b[0m             \u001b[0max\u001b[0m \u001b[1;33m=\u001b[0m \u001b[0mself\u001b[0m\u001b[1;33m.\u001b[0m\u001b[0mobj\u001b[0m\u001b[1;33m.\u001b[0m\u001b[0m_get_axis\u001b[0m\u001b[1;33m(\u001b[0m\u001b[0maxis\u001b[0m\u001b[1;33m)\u001b[0m\u001b[1;33m\u001b[0m\u001b[1;33m\u001b[0m\u001b[0m\n",
      "\u001b[1;31mKeyError\u001b[0m: \"None of [Index(['height_diff', 'weight_diff', 'reach_diff', 'age_diff'], dtype='object')] are in the [columns]\""
     ]
    }
   ],
   "source": [
    "svc_df = df\n",
    "\n",
    "scaler = StandardScaler()\n",
    "\n",
    "features = [\"height_diff\", \"weight_diff\", \"reach_diff\", \"age_diff\"]\n",
    "\n",
    "svc_df[features] = scaler.fit_transform(svc_df[features])\n",
    "\n",
    "svc_df.head()"
   ]
  },
  {
   "cell_type": "code",
   "execution_count": null,
   "id": "6485e309",
   "metadata": {
    "id": "cnjbcmc_sShj"
   },
   "outputs": [],
   "source": [
    "y = svc_df.loc[:, \"Winner\"]\n",
    "X = svc_df.loc[:, svc_df.columns != \"Winner\"]\n",
    "\n",
    "X_train, X_test, y_train, y_test = train_test_split(X, y, test_size=0.2, random_state=42)"
   ]
  },
  {
   "cell_type": "code",
   "execution_count": null,
   "id": "25acd8ab",
   "metadata": {
    "id": "IdPdemyuoxsz"
   },
   "outputs": [],
   "source": [
    "svc_model1 = SVC()\n",
    "\n",
    "svc_model1.fit(X_train, y_train)\n",
    "\n",
    "y_pred = svc_model1.predict(X_test)\n",
    "\n",
    "print(f'Train Score: {svc_model1.score(X_train, y_train)}')\n",
    "print(f'Test Score: {svc_model1.score(X_test, y_test)}')"
   ]
  },
  {
   "cell_type": "code",
   "execution_count": null,
   "id": "9c50d749",
   "metadata": {
    "id": "e3BLe5sezeXV"
   },
   "outputs": [],
   "source": [
    "# svc_model2 = SVC()\n",
    "\n",
    "# parameters = {\n",
    "#     'C': [0.1, 1, 10, 100],\n",
    "#     'gamma': [0.001, 0.01, 0.1, 1],\n",
    "#     'kernel': ['rbf'],\n",
    "#     'degree': range(10)\n",
    "# }\n",
    "\n",
    "# svm_random_search = RandomizedSearchCV(svc_model2, parameters, cv=5)\n",
    "\n",
    "# svm_random_search.fit(X_train, y_train)\n",
    "\n",
    "# print(svm_random_search.best_params_)\n",
    "# print(svm_random_search.best_score_)"
   ]
  },
  {
   "cell_type": "code",
   "execution_count": null,
   "id": "33fc9ff1",
   "metadata": {
    "id": "oEuVABy_0_jk"
   },
   "outputs": [],
   "source": [
    "# svc_model3 = svm_random_search.best_estimator_\n",
    "\n",
    "svc_model3 = SVC(\n",
    "    kernel='rbf',\n",
    "    gamma=0.1,\n",
    "    degree=8,\n",
    "    C=1\n",
    ")\n",
    "\n",
    "svc_model3.fit(X_train, y_train)\n",
    "\n",
    "print(f'Train Score: {svc_model3.score(X_train, y_train)}')\n",
    "print(f'Test Score: {svc_model3.score(X_test, y_test)}')"
   ]
  },
  {
   "cell_type": "markdown",
   "id": "8093e64c",
   "metadata": {
    "id": "ekLtcoLYrjeC"
   },
   "source": [
    "## Neural Networks"
   ]
  },
  {
   "cell_type": "code",
   "execution_count": null,
   "id": "5c17c810",
   "metadata": {
    "id": "GurMsp7VzLlo"
   },
   "outputs": [],
   "source": [
    "nn_df = df\n",
    "\n",
    "scaler = StandardScaler()\n",
    "\n",
    "features = [\"height_diff\", \"weight_diff\", \"reach_diff\", \"age_diff\"]\n",
    "\n",
    "nn_df[features] = scaler.fit_transform(nn_df[features])\n",
    "\n",
    "nn_df.head()"
   ]
  },
  {
   "cell_type": "code",
   "execution_count": null,
   "id": "0b5a6710",
   "metadata": {
    "id": "zPw7dxY3zRwl"
   },
   "outputs": [],
   "source": [
    "y = nn_df.loc[:, \"Winner\"]\n",
    "X = nn_df.loc[:, nn_df.columns != \"Winner\"]\n",
    "\n",
    "X_train, X_test, y_train, y_test = train_test_split(X, y, test_size=0.2, random_state=42)"
   ]
  },
  {
   "cell_type": "code",
   "execution_count": null,
   "id": "e354bbcb",
   "metadata": {
    "id": "IG2Fqvw1pHtd"
   },
   "outputs": [],
   "source": [
    "mlp_model1 = MLPClassifier(hidden_layer_sizes=(100,))\n",
    "\n",
    "mlp_model1.fit(X_train, y_train)\n",
    "\n",
    "print(f'Train Score: {mlp_model1.score(X_train, y_train)}')\n",
    "print(f'Test Score: {mlp_model1.score(X_test, y_test)}')"
   ]
  },
  {
   "cell_type": "code",
   "execution_count": null,
   "id": "9ed6b616",
   "metadata": {
    "id": "vJp6iH6duVyU"
   },
   "outputs": [],
   "source": [
    "# mlp_model2 = MLPClassifier()\n",
    "\n",
    "# parameters = {\n",
    "#     'hidden_layer_sizes': [(10,), (20,), (50,), (100,)],\n",
    "#     'activation': ['relu', 'tanh', 'logistic'],\n",
    "#     'solver': ['adam', 'lbfgs', 'sgd'],\n",
    "#     'alpha': [0.001, 0.01, 0.1, 1, 10]\n",
    "# }\n",
    "\n",
    "# nn_random_search = RandomizedSearchCV(mlp_model2, parameters, cv=5)\n",
    "\n",
    "# nn_random_search.fit(X_train, y_train)\n",
    "\n",
    "# print(nn_random_search.best_params_)\n",
    "# print(nn_random_search.best_score_)"
   ]
  },
  {
   "cell_type": "code",
   "execution_count": null,
   "id": "9e8c2294",
   "metadata": {
    "id": "cquj6U5kvEox"
   },
   "outputs": [],
   "source": [
    "# mlp_model3 = nn_random_search.best_estimator_\n",
    "\n",
    "mlp_model3 = MLPClassifier(\n",
    "    solver='adam',\n",
    "    hidden_layer_sizes=(100,),\n",
    "    alpha=0.001,\n",
    "    activation='tanh'\n",
    ")\n",
    "\n",
    "mlp_model3.fit(X_train, y_train)\n",
    "\n",
    "print(f'Train Score: {mlp_model3.score(X_train, y_train)}')\n",
    "print(f'Test Score: {mlp_model3.score(X_test, y_test)}')"
   ]
  }
 ],
 "metadata": {
  "colab": {
   "provenance": []
  },
  "kernelspec": {
   "display_name": "Python 3",
   "language": "python",
   "name": "python3"
  },
  "language_info": {
   "codemirror_mode": {
    "name": "ipython",
    "version": 3
   },
   "file_extension": ".py",
   "mimetype": "text/x-python",
   "name": "python",
   "nbconvert_exporter": "python",
   "pygments_lexer": "ipython3",
   "version": "3.8.8"
  }
 },
 "nbformat": 4,
 "nbformat_minor": 5
}
